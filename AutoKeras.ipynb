{
 "cells": [
  {
   "cell_type": "code",
   "execution_count": 76,
   "metadata": {},
   "outputs": [
    {
     "name": "stdout",
     "output_type": "stream",
     "text": [
      "Collecting autots\n",
      "  Downloading autots-0.5.5-py3-none-any.whl (1.0 MB)\n",
      "\u001b[2K     \u001b[90m━━━━━━━━━━━━━━━━━━━━━━━━━━━━━━━━━━━━━━━━\u001b[0m \u001b[32m1.0/1.0 MB\u001b[0m \u001b[31m23.9 MB/s\u001b[0m eta \u001b[36m0:00:00\u001b[0m00:01\u001b[0m\n",
      "\u001b[?25hRequirement already satisfied: statsmodels>=0.10.0 in /opt/homebrew/anaconda3/lib/python3.10/site-packages (from autots) (0.13.5)\n",
      "Requirement already satisfied: pandas>=0.25.0 in /opt/homebrew/anaconda3/lib/python3.10/site-packages (from autots) (1.5.3)\n",
      "Requirement already satisfied: scikit-learn>=0.20.0 in /opt/homebrew/anaconda3/lib/python3.10/site-packages (from autots) (1.2.1)\n",
      "Requirement already satisfied: numpy>=1.14.6 in /opt/homebrew/anaconda3/lib/python3.10/site-packages (from autots) (1.23.5)\n",
      "Requirement already satisfied: python-dateutil>=2.8.1 in /opt/homebrew/anaconda3/lib/python3.10/site-packages (from pandas>=0.25.0->autots) (2.8.2)\n",
      "Requirement already satisfied: pytz>=2020.1 in /opt/homebrew/anaconda3/lib/python3.10/site-packages (from pandas>=0.25.0->autots) (2022.7)\n",
      "Requirement already satisfied: threadpoolctl>=2.0.0 in /opt/homebrew/anaconda3/lib/python3.10/site-packages (from scikit-learn>=0.20.0->autots) (2.2.0)\n",
      "Requirement already satisfied: scipy>=1.3.2 in /opt/homebrew/anaconda3/lib/python3.10/site-packages (from scikit-learn>=0.20.0->autots) (1.9.3)\n",
      "Requirement already satisfied: joblib>=1.1.1 in /opt/homebrew/anaconda3/lib/python3.10/site-packages (from scikit-learn>=0.20.0->autots) (1.1.1)\n",
      "Requirement already satisfied: packaging>=21.3 in /opt/homebrew/anaconda3/lib/python3.10/site-packages (from statsmodels>=0.10.0->autots) (22.0)\n",
      "Requirement already satisfied: patsy>=0.5.2 in /opt/homebrew/anaconda3/lib/python3.10/site-packages (from statsmodels>=0.10.0->autots) (0.5.3)\n",
      "Requirement already satisfied: six in /opt/homebrew/anaconda3/lib/python3.10/site-packages (from patsy>=0.5.2->statsmodels>=0.10.0->autots) (1.16.0)\n",
      "Installing collected packages: autots\n",
      "Successfully installed autots-0.5.5\n",
      "Note: you may need to restart the kernel to use updated packages.\n"
     ]
    }
   ],
   "source": [
    "pip install autots\n"
   ]
  },
  {
   "cell_type": "code",
   "execution_count": 78,
   "metadata": {},
   "outputs": [],
   "source": [
    "from autots import AutoTS, load_daily\n",
    "from sklearn.preprocessing import MinMaxScaler\n",
    "import pandas as pd\n"
   ]
  },
  {
   "cell_type": "code",
   "execution_count": 99,
   "metadata": {},
   "outputs": [
    {
     "name": "stdout",
     "output_type": "stream",
     "text": [
      "DatetimeIndex(['2023-03-10 23:13:20+09:00', '2023-03-10 23:14:20+09:00',\n",
      "               '2023-03-10 23:15:20+09:00', '2023-03-10 23:16:20+09:00',\n",
      "               '2023-03-10 23:17:20+09:00', '2023-03-10 23:18:20+09:00',\n",
      "               '2023-03-10 23:19:20+09:00', '2023-03-10 23:20:20+09:00',\n",
      "               '2023-03-10 23:21:20+09:00', '2023-03-10 23:22:20+09:00',\n",
      "               ...\n",
      "               '2023-03-24 08:47:20+09:00', '2023-03-24 08:48:20+09:00',\n",
      "               '2023-03-24 08:49:20+09:00', '2023-03-24 08:50:20+09:00',\n",
      "               '2023-03-24 08:51:20+09:00', '2023-03-24 08:52:20+09:00',\n",
      "               '2023-03-24 08:53:20+09:00', '2023-03-24 08:54:20+09:00',\n",
      "               '2023-03-24 08:55:20+09:00', '2023-03-24 08:56:20+09:00'],\n",
      "              dtype='datetime64[ns, Asia/Seoul]', length=19304, freq='T')\n"
     ]
    }
   ],
   "source": [
    "import pandas as pd\n",
    "ts_ms = pd.date_range(start = '2023-03-10 23:13:20',     # 날짜 범위 시작\n",
    "                     end = None,                # 날짜 범위 끝\n",
    "                     periods = 19304,               # 생성할 Timestamp 개수\n",
    "                     freq = 'T',               # 시간 간격(MS : 월의 시작일)\n",
    "                     tz = 'Asia/Seoul')         # 시간대(timezone)\n",
    "print(ts_ms)"
   ]
  },
  {
   "cell_type": "code",
   "execution_count": 101,
   "metadata": {},
   "outputs": [
    {
     "data": {
      "text/html": [
       "<div>\n",
       "<style scoped>\n",
       "    .dataframe tbody tr th:only-of-type {\n",
       "        vertical-align: middle;\n",
       "    }\n",
       "\n",
       "    .dataframe tbody tr th {\n",
       "        vertical-align: top;\n",
       "    }\n",
       "\n",
       "    .dataframe thead th {\n",
       "        text-align: right;\n",
       "    }\n",
       "</style>\n",
       "<table border=\"1\" class=\"dataframe\">\n",
       "  <thead>\n",
       "    <tr style=\"text-align: right;\">\n",
       "      <th></th>\n",
       "      <th>index</th>\n",
       "      <th>cpu_usage_nanocores</th>\n",
       "      <th>memory_working_set_bytes</th>\n",
       "    </tr>\n",
       "    <tr>\n",
       "      <th>time</th>\n",
       "      <th></th>\n",
       "      <th></th>\n",
       "      <th></th>\n",
       "    </tr>\n",
       "  </thead>\n",
       "  <tbody>\n",
       "    <tr>\n",
       "      <th>2023-03-10 23:13:20+09:00</th>\n",
       "      <td>2</td>\n",
       "      <td>0.411576</td>\n",
       "      <td>0.044959</td>\n",
       "    </tr>\n",
       "    <tr>\n",
       "      <th>2023-03-10 23:14:20+09:00</th>\n",
       "      <td>18</td>\n",
       "      <td>0.481051</td>\n",
       "      <td>0.044911</td>\n",
       "    </tr>\n",
       "    <tr>\n",
       "      <th>2023-03-10 23:15:20+09:00</th>\n",
       "      <td>31</td>\n",
       "      <td>0.500366</td>\n",
       "      <td>0.049663</td>\n",
       "    </tr>\n",
       "    <tr>\n",
       "      <th>2023-03-10 23:16:20+09:00</th>\n",
       "      <td>39</td>\n",
       "      <td>0.441449</td>\n",
       "      <td>0.049532</td>\n",
       "    </tr>\n",
       "    <tr>\n",
       "      <th>2023-03-10 23:17:20+09:00</th>\n",
       "      <td>52</td>\n",
       "      <td>0.681631</td>\n",
       "      <td>0.050024</td>\n",
       "    </tr>\n",
       "    <tr>\n",
       "      <th>...</th>\n",
       "      <td>...</td>\n",
       "      <td>...</td>\n",
       "      <td>...</td>\n",
       "    </tr>\n",
       "    <tr>\n",
       "      <th>2023-03-24 08:52:20+09:00</th>\n",
       "      <td>231587</td>\n",
       "      <td>0.031644</td>\n",
       "      <td>0.066024</td>\n",
       "    </tr>\n",
       "    <tr>\n",
       "      <th>2023-03-24 08:53:20+09:00</th>\n",
       "      <td>231589</td>\n",
       "      <td>0.024549</td>\n",
       "      <td>0.066039</td>\n",
       "    </tr>\n",
       "    <tr>\n",
       "      <th>2023-03-24 08:54:20+09:00</th>\n",
       "      <td>231605</td>\n",
       "      <td>0.036685</td>\n",
       "      <td>0.066039</td>\n",
       "    </tr>\n",
       "    <tr>\n",
       "      <th>2023-03-24 08:55:20+09:00</th>\n",
       "      <td>231621</td>\n",
       "      <td>0.036176</td>\n",
       "      <td>0.066042</td>\n",
       "    </tr>\n",
       "    <tr>\n",
       "      <th>2023-03-24 08:56:20+09:00</th>\n",
       "      <td>231630</td>\n",
       "      <td>0.028522</td>\n",
       "      <td>0.066057</td>\n",
       "    </tr>\n",
       "  </tbody>\n",
       "</table>\n",
       "<p>19304 rows × 3 columns</p>\n",
       "</div>"
      ],
      "text/plain": [
       "                            index  cpu_usage_nanocores  \\\n",
       "time                                                     \n",
       "2023-03-10 23:13:20+09:00       2             0.411576   \n",
       "2023-03-10 23:14:20+09:00      18             0.481051   \n",
       "2023-03-10 23:15:20+09:00      31             0.500366   \n",
       "2023-03-10 23:16:20+09:00      39             0.441449   \n",
       "2023-03-10 23:17:20+09:00      52             0.681631   \n",
       "...                           ...                  ...   \n",
       "2023-03-24 08:52:20+09:00  231587             0.031644   \n",
       "2023-03-24 08:53:20+09:00  231589             0.024549   \n",
       "2023-03-24 08:54:20+09:00  231605             0.036685   \n",
       "2023-03-24 08:55:20+09:00  231621             0.036176   \n",
       "2023-03-24 08:56:20+09:00  231630             0.028522   \n",
       "\n",
       "                           memory_working_set_bytes  \n",
       "time                                                 \n",
       "2023-03-10 23:13:20+09:00                  0.044959  \n",
       "2023-03-10 23:14:20+09:00                  0.044911  \n",
       "2023-03-10 23:15:20+09:00                  0.049663  \n",
       "2023-03-10 23:16:20+09:00                  0.049532  \n",
       "2023-03-10 23:17:20+09:00                  0.050024  \n",
       "...                                             ...  \n",
       "2023-03-24 08:52:20+09:00                  0.066024  \n",
       "2023-03-24 08:53:20+09:00                  0.066039  \n",
       "2023-03-24 08:54:20+09:00                  0.066039  \n",
       "2023-03-24 08:55:20+09:00                  0.066042  \n",
       "2023-03-24 08:56:20+09:00                  0.066057  \n",
       "\n",
       "[19304 rows x 3 columns]"
      ]
     },
     "execution_count": 101,
     "metadata": {},
     "output_type": "execute_result"
    }
   ],
   "source": [
    "long = False\n",
    "df = pd.read_csv('/Users/sunflower/Korea/실험환경/python/data/cpu_memory_usage_v1.csv', header=0)\n",
    "df = df.loc[df.pod_name == 'drive-az2-prd-69cbb999bc-lpr67']\n",
    "df = df.loc[:,['index','time','cpu_usage_nanocores', 'memory_working_set_bytes']]\n",
    "df = df.dropna()\n",
    "\n",
    "\n",
    "ms = MinMaxScaler()\n",
    "\n",
    "df[['cpu_usage_nanocores','memory_working_set_bytes']] = ms.fit_transform(df[['cpu_usage_nanocores','memory_working_set_bytes']])\n",
    "df['time'] = ts_ms\n",
    "df.set_index('time', inplace=True)\n",
    "df"
   ]
  },
  {
   "cell_type": "code",
   "execution_count": 102,
   "metadata": {},
   "outputs": [],
   "source": [
    "\n",
    "model = AutoTS(\n",
    "    forecast_length=21,\n",
    "    frequency='infer',\n",
    "    prediction_interval=0.9,\n",
    "    ensemble=None,\n",
    "    model_list=\"fast\",  # \"superfast\", \"default\", \"fast_parallel\"\n",
    "    transformer_list=\"fast\",  # \"superfast\",\n",
    "    drop_most_recent=1,\n",
    "    max_generations=4,\n",
    "    num_validations=2,\n",
    "    validation_method=\"backwards\"\n",
    ")"
   ]
  },
  {
   "cell_type": "code",
   "execution_count": 103,
   "metadata": {},
   "outputs": [
    {
     "name": "stdout",
     "output_type": "stream",
     "text": [
      "Inferred frequency is: T\n",
      "Model Number: 1 with model AverageValueNaive in generation 0 of 4\n",
      "Model Number: 2 with model AverageValueNaive in generation 0 of 4\n",
      "Model Number: 3 with model AverageValueNaive in generation 0 of 4\n",
      "Model Number: 4 with model DatepartRegression in generation 0 of 4\n",
      "Model Number: 5 with model DatepartRegression in generation 0 of 4\n"
     ]
    },
    {
     "name": "stderr",
     "output_type": "stream",
     "text": [
      "/opt/homebrew/anaconda3/lib/python3.10/site-packages/sklearn/svm/_base.py:1244: ConvergenceWarning: Liblinear failed to converge, increase the number of iterations.\n",
      "  warnings.warn(\n",
      "/opt/homebrew/anaconda3/lib/python3.10/site-packages/sklearn/svm/_base.py:1244: ConvergenceWarning: Liblinear failed to converge, increase the number of iterations.\n",
      "  warnings.warn(\n",
      "/opt/homebrew/anaconda3/lib/python3.10/site-packages/sklearn/svm/_base.py:1244: ConvergenceWarning: Liblinear failed to converge, increase the number of iterations.\n",
      "  warnings.warn(\n"
     ]
    },
    {
     "name": "stdout",
     "output_type": "stream",
     "text": [
      "Model Number: 6 with model DatepartRegression in generation 0 of 4\n"
     ]
    },
    {
     "name": "stderr",
     "output_type": "stream",
     "text": [
      "/opt/homebrew/anaconda3/lib/python3.10/site-packages/sklearn/neural_network/_multilayer_perceptron.py:541: ConvergenceWarning: lbfgs failed to converge (status=1):\n",
      "STOP: TOTAL NO. of ITERATIONS REACHED LIMIT.\n",
      "\n",
      "Increase the number of iterations (max_iter) or scale the data as shown in:\n",
      "    https://scikit-learn.org/stable/modules/preprocessing.html\n",
      "  self.n_iter_ = _check_optimize_result(\"lbfgs\", opt_res, self.max_iter)\n"
     ]
    },
    {
     "name": "stdout",
     "output_type": "stream",
     "text": [
      "Model Number: 7 with model DatepartRegression in generation 0 of 4\n",
      "Epoch 1/50\n"
     ]
    },
    {
     "name": "stderr",
     "output_type": "stream",
     "text": [
      "2023-04-05 19:47:17.363172: W tensorflow/core/platform/profile_utils/cpu_utils.cc:128] Failed to get CPU frequency: 0 Hz\n"
     ]
    },
    {
     "name": "stdout",
     "output_type": "stream",
     "text": [
      "603/603 [==============================] - 3s 2ms/step - loss: 0.2778\n",
      "Epoch 2/50\n",
      "603/603 [==============================] - 1s 1ms/step - loss: 0.2209\n",
      "Epoch 3/50\n",
      "603/603 [==============================] - 1s 2ms/step - loss: 0.1593\n",
      "Epoch 4/50\n",
      "603/603 [==============================] - 1s 1ms/step - loss: 0.1477\n",
      "Epoch 5/50\n",
      "603/603 [==============================] - 1s 2ms/step - loss: 0.1407\n",
      "Epoch 6/50\n",
      "603/603 [==============================] - 1s 1ms/step - loss: 0.1367\n",
      "Epoch 7/50\n",
      "603/603 [==============================] - 1s 1ms/step - loss: 0.1279\n",
      "Epoch 8/50\n",
      "603/603 [==============================] - 1s 1ms/step - loss: 0.1221\n",
      "Epoch 9/50\n",
      "603/603 [==============================] - 1s 2ms/step - loss: 0.1159\n",
      "Epoch 10/50\n",
      "603/603 [==============================] - 1s 2ms/step - loss: 0.1124\n",
      "Epoch 11/50\n",
      "603/603 [==============================] - 1s 1ms/step - loss: 0.1080\n",
      "Epoch 12/50\n",
      "603/603 [==============================] - 1s 1ms/step - loss: 0.1074\n",
      "Epoch 13/50\n",
      "603/603 [==============================] - 1s 2ms/step - loss: 0.1044\n",
      "Epoch 14/50\n",
      "603/603 [==============================] - 1s 1ms/step - loss: 0.1041\n",
      "Epoch 15/50\n",
      "603/603 [==============================] - 1s 1ms/step - loss: 0.1022\n",
      "Epoch 16/50\n",
      "603/603 [==============================] - 1s 1ms/step - loss: 0.1010\n",
      "Epoch 17/50\n",
      "603/603 [==============================] - 1s 1ms/step - loss: 0.1010\n",
      "Epoch 18/50\n",
      "603/603 [==============================] - 1s 1ms/step - loss: 0.0993\n",
      "Epoch 19/50\n",
      "603/603 [==============================] - 1s 2ms/step - loss: 0.0986\n",
      "Epoch 20/50\n",
      "603/603 [==============================] - 1s 2ms/step - loss: 0.0985\n",
      "Epoch 21/50\n",
      "603/603 [==============================] - 1s 2ms/step - loss: 0.0976\n",
      "Epoch 22/50\n",
      "603/603 [==============================] - 1s 2ms/step - loss: 0.0966\n",
      "Epoch 23/50\n",
      "603/603 [==============================] - 1s 1ms/step - loss: 0.0955\n",
      "Epoch 24/50\n",
      "603/603 [==============================] - 1s 1ms/step - loss: 0.0947\n",
      "Epoch 25/50\n",
      "603/603 [==============================] - 1s 1ms/step - loss: 0.0952\n",
      "Epoch 26/50\n",
      "603/603 [==============================] - 1s 1ms/step - loss: 0.0942\n",
      "Epoch 27/50\n",
      "603/603 [==============================] - 1s 1ms/step - loss: 0.0941\n",
      "Epoch 28/50\n",
      "603/603 [==============================] - 1s 1ms/step - loss: 0.0935\n",
      "Epoch 29/50\n",
      "603/603 [==============================] - 1s 1ms/step - loss: 0.0929\n",
      "Epoch 30/50\n",
      "603/603 [==============================] - 1s 1ms/step - loss: 0.0931\n",
      "Epoch 31/50\n",
      "603/603 [==============================] - 1s 1ms/step - loss: 0.0931\n",
      "Epoch 32/50\n",
      "603/603 [==============================] - 1s 1ms/step - loss: 0.0932\n",
      "Epoch 33/50\n",
      "603/603 [==============================] - 1s 2ms/step - loss: 0.0921\n",
      "Epoch 34/50\n",
      "603/603 [==============================] - 1s 1ms/step - loss: 0.0927\n",
      "Epoch 35/50\n",
      "603/603 [==============================] - 1s 1ms/step - loss: 0.0920\n",
      "Epoch 36/50\n",
      "603/603 [==============================] - 1s 1ms/step - loss: 0.0918\n",
      "Epoch 37/50\n",
      "603/603 [==============================] - 1s 1ms/step - loss: 0.0916\n",
      "Epoch 38/50\n",
      "603/603 [==============================] - 1s 1ms/step - loss: 0.0909\n",
      "Epoch 39/50\n",
      "603/603 [==============================] - 1s 1ms/step - loss: 0.0914\n",
      "Epoch 40/50\n",
      "603/603 [==============================] - 1s 1ms/step - loss: 0.0914\n",
      "Epoch 41/50\n",
      "603/603 [==============================] - 1s 1ms/step - loss: 0.0905\n",
      "Epoch 42/50\n",
      "603/603 [==============================] - 1s 1ms/step - loss: 0.0906\n",
      "Epoch 43/50\n",
      "603/603 [==============================] - 1s 1ms/step - loss: 0.0905\n",
      "Epoch 44/50\n",
      "603/603 [==============================] - 1s 1ms/step - loss: 0.0908\n",
      "Epoch 45/50\n",
      "603/603 [==============================] - 1s 1ms/step - loss: 0.0906\n",
      "Epoch 46/50\n",
      "603/603 [==============================] - 1s 1ms/step - loss: 0.0904\n",
      "Epoch 47/50\n",
      "603/603 [==============================] - 1s 2ms/step - loss: 0.0911\n",
      "Epoch 48/50\n",
      "603/603 [==============================] - 1s 1ms/step - loss: 0.0902\n",
      "Epoch 49/50\n",
      "603/603 [==============================] - 1s 2ms/step - loss: 0.0909\n",
      "Epoch 50/50\n",
      "603/603 [==============================] - 1s 1ms/step - loss: 0.0905\n",
      "1/1 [==============================] - 0s 400ms/step\n",
      "Model Number: 8 with model ETS in generation 0 of 4\n",
      "Model Number: 9 with model ETS in generation 0 of 4\n",
      "Model Number: 10 with model GLM in generation 0 of 4\n",
      "Model Number: 11 with model GLM in generation 0 of 4\n",
      "Model Number: 12 with model GLS in generation 0 of 4\n",
      "Model Number: 13 with model GLS in generation 0 of 4\n",
      "Model Number: 14 with model LastValueNaive in generation 0 of 4\n",
      "Model Number: 15 with model LastValueNaive in generation 0 of 4\n",
      "Model Number: 16 with model LastValueNaive in generation 0 of 4\n",
      "Model Number: 17 with model LastValueNaive in generation 0 of 4\n",
      "Model Number: 18 with model SeasonalNaive in generation 0 of 4\n",
      "Model Number: 19 with model SeasonalNaive in generation 0 of 4\n",
      "Model Number: 20 with model SeasonalNaive in generation 0 of 4\n",
      "Model Number: 21 with model VAR in generation 0 of 4\n",
      "Model Number: 22 with model VAR in generation 0 of 4\n",
      "Model Number: 23 with model VECM in generation 0 of 4\n",
      "Model Number: 24 with model VECM in generation 0 of 4\n",
      "Model Number: 25 with model WindowRegression in generation 0 of 4\n",
      "Model Number: 26 with model ConstantNaive in generation 0 of 4\n",
      "Model Number: 27 with model DatepartRegression in generation 0 of 4\n",
      "Template Eval Error: ValueError(\"regression_type='User' but no future_regressor passed\") in model 27 in generation 0: DatepartRegression\n",
      "Model Number: 28 with model SeasonalNaive in generation 0 of 4\n"
     ]
    },
    {
     "name": "stderr",
     "output_type": "stream",
     "text": [
      "/opt/homebrew/anaconda3/lib/python3.10/site-packages/sklearn/neural_network/_multilayer_perceptron.py:541: ConvergenceWarning: lbfgs failed to converge (status=1):\n",
      "STOP: TOTAL NO. of ITERATIONS REACHED LIMIT.\n",
      "\n",
      "Increase the number of iterations (max_iter) or scale the data as shown in:\n",
      "    https://scikit-learn.org/stable/modules/preprocessing.html\n",
      "  self.n_iter_ = _check_optimize_result(\"lbfgs\", opt_res, self.max_iter)\n"
     ]
    },
    {
     "name": "stdout",
     "output_type": "stream",
     "text": [
      "Model Number: 29 with model DatepartRegression in generation 0 of 4\n",
      "Model Number: 30 with model ETS in generation 0 of 4\n",
      "Model Number: 31 with model VECM in generation 0 of 4\n",
      "Model Number: 32 with model MultivariateMotif in generation 0 of 4\n",
      "Model Number: 33 with model MultivariateMotif in generation 0 of 4\n",
      "Model Number: 34 with model UnivariateMotif in generation 0 of 4\n",
      "Model Number: 35 with model UnivariateMotif in generation 0 of 4\n",
      "Model Number: 36 with model SectionalMotif in generation 0 of 4\n",
      "Model Number: 37 with model SectionalMotif in generation 0 of 4\n",
      "Model Number: 38 with model SeasonalNaive in generation 0 of 4\n",
      "Model Number: 39 with model DatepartRegression in generation 0 of 4\n"
     ]
    },
    {
     "name": "stderr",
     "output_type": "stream",
     "text": [
      "[Parallel(n_jobs=-2)]: Using backend ThreadingBackend with 7 concurrent workers.\n",
      "[Parallel(n_jobs=-2)]: Done  36 tasks      | elapsed:    0.1s\n",
      "[Parallel(n_jobs=-2)]: Done 100 out of 100 | elapsed:    0.2s finished\n",
      "[Parallel(n_jobs=7)]: Using backend ThreadingBackend with 7 concurrent workers.\n",
      "[Parallel(n_jobs=7)]: Done  36 tasks      | elapsed:    0.0s\n",
      "[Parallel(n_jobs=7)]: Done 100 out of 100 | elapsed:    0.0s finished\n"
     ]
    },
    {
     "name": "stdout",
     "output_type": "stream",
     "text": [
      "Model Number: 40 with model NVAR in generation 0 of 4\n",
      "Model Number: 41 with model Cassandra in generation 0 of 4\n"
     ]
    },
    {
     "name": "stderr",
     "output_type": "stream",
     "text": [
      "/opt/homebrew/anaconda3/lib/python3.10/site-packages/numpy/lib/function_base.py:2853: RuntimeWarning: invalid value encountered in divide\n",
      "  c /= stddev[:, None]\n",
      "/opt/homebrew/anaconda3/lib/python3.10/site-packages/numpy/lib/function_base.py:2854: RuntimeWarning: invalid value encountered in divide\n",
      "  c /= stddev[None, :]\n"
     ]
    },
    {
     "name": "stdout",
     "output_type": "stream",
     "text": [
      "Model Number: 42 with model ConstantNaive in generation 0 of 4\n",
      "Model Number: 43 with model LastValueNaive in generation 0 of 4\n",
      "Template Eval Error: Exception('Transformer HolidayTransformer failed on fit') in model 43 in generation 0: LastValueNaive\n",
      "Model Number: 44 with model AverageValueNaive in generation 0 of 4\n",
      "Model Number: 45 with model GLS in generation 0 of 4\n",
      "Model Number: 46 with model SeasonalNaive in generation 0 of 4\n",
      "Model Number: 47 with model GLM in generation 0 of 4\n",
      "Template Eval Error: ValueError('regression_type=user and no future_regressor passed') in model 47 in generation 0: GLM\n",
      "Model Number: 48 with model ETS in generation 0 of 4\n",
      "ETS error ValueError('endog must be strictly positive when usingmultiplicative trend or seasonal components.')\n",
      "ETS failed on index with ValueError('endog must be strictly positive when usingmultiplicative trend or seasonal components.')\n",
      "ETS error ValueError('endog must be strictly positive when usingmultiplicative trend or seasonal components.')\n",
      "ETS failed on cpu_usage_nanocores with ValueError('endog must be strictly positive when usingmultiplicative trend or seasonal components.')\n",
      "ETS error ValueError('endog must be strictly positive when usingmultiplicative trend or seasonal components.')\n",
      "ETS failed on memory_working_set_bytes with ValueError('endog must be strictly positive when usingmultiplicative trend or seasonal components.')\n",
      "Model Number: 49 with model VAR in generation 0 of 4\n",
      "Model Number: 50 with model VECM in generation 0 of 4\n",
      "Model Number: 51 with model WindowRegression in generation 0 of 4\n",
      "Model Number: 52 with model DatepartRegression in generation 0 of 4\n",
      "Template Eval Error: Exception('Transformer HolidayTransformer failed on fit') in model 52 in generation 0: DatepartRegression\n",
      "Model Number: 53 with model UnivariateMotif in generation 0 of 4\n",
      "Model Number: 54 with model MultivariateMotif in generation 0 of 4\n",
      "Model Number: 55 with model SectionalMotif in generation 0 of 4\n",
      "Model Number: 56 with model NVAR in generation 0 of 4\n",
      "Model Number: 57 with model MAR in generation 0 of 4\n",
      "Template Eval Error: ValueError('Shape of passed values is (14, 3), indices imply (21, 3)') in model 57 in generation 0: MAR\n",
      "Model Number: 58 with model RRVAR in generation 0 of 4\n",
      "Model Number: 59 with model KalmanStateSpace in generation 0 of 4\n",
      "Model Number: 60 with model MetricMotif in generation 0 of 4\n",
      "Model Number: 61 with model Cassandra in generation 0 of 4\n"
     ]
    },
    {
     "name": "stderr",
     "output_type": "stream",
     "text": [
      "/opt/homebrew/anaconda3/lib/python3.10/site-packages/autots/tools/holiday.py:40: FutureWarning: Indexing a timezone-naive DatetimeIndex with a timezone-aware datetime is deprecated and will raise KeyError in a future version.  Use a timezone-naive object instead.\n",
      "  USFederalHolidayCalendar()\n",
      "/opt/homebrew/anaconda3/lib/python3.10/site-packages/autots/tools/holiday.py:40: FutureWarning: Indexing a timezone-naive DatetimeIndex with a timezone-aware datetime is deprecated and will raise KeyError in a future version.  Use a timezone-naive object instead.\n",
      "  USFederalHolidayCalendar()\n"
     ]
    },
    {
     "name": "stdout",
     "output_type": "stream",
     "text": [
      "Model Number: 62 with model SeasonalityMotif in generation 0 of 4\n",
      "Model Number: 63 with model MetricMotif in generation 0 of 4\n",
      "Model Number: 64 with model ETS in generation 0 of 4\n",
      "Template Eval Error: Exception('Transformer DatepartRegression failed on fit') in model 64 in generation 0: ETS\n",
      "Model Number: 65 with model VECM in generation 0 of 4\n",
      "Model Number: 66 with model MAR in generation 0 of 4\n",
      "Template Eval Error: ValueError('Shape of passed values is (7, 3), indices imply (21, 3)') in model 66 in generation 0: MAR\n",
      "Model Number: 67 with model GLS in generation 0 of 4\n",
      "Model Number: 68 with model MAR in generation 0 of 4\n",
      "Model Number: 69 with model ETS in generation 0 of 4\n",
      "Model Number: 70 with model VECM in generation 0 of 4\n",
      "Template Eval Error: ValueError(\"regression_type='User' but no future_regressor supplied\") in model 70 in generation 0: VECM\n",
      "Model Number: 71 with model SectionalMotif in generation 0 of 4\n",
      "Model Number: 72 with model ETS in generation 0 of 4\n",
      "ETS error ValueError('endog must be strictly positive when usingmultiplicative trend or seasonal components.')\n",
      "ETS failed on cpu_usage_nanocores with ValueError('endog must be strictly positive when usingmultiplicative trend or seasonal components.')\n",
      "ETS error ValueError('endog must be strictly positive when usingmultiplicative trend or seasonal components.')\n",
      "ETS failed on memory_working_set_bytes with ValueError('endog must be strictly positive when usingmultiplicative trend or seasonal components.')\n",
      "Model Number: 73 with model SeasonalNaive in generation 0 of 4\n",
      "Template Eval Error: Exception('Transformer PowerTransformer failed on fit') in model 73 in generation 0: SeasonalNaive\n",
      "Model Number: 74 with model SeasonalNaive in generation 0 of 4\n",
      "Model Number: 75 with model SeasonalNaive in generation 0 of 4\n",
      "Model Number: 76 with model MultivariateMotif in generation 0 of 4\n",
      "Model Number: 77 with model RRVAR in generation 0 of 4\n",
      "Model Number: 78 with model SeasonalNaive in generation 0 of 4\n",
      "Model Number: 79 with model ConstantNaive in generation 0 of 4\n",
      "Model Number: 80 with model RRVAR in generation 0 of 4\n",
      "Model Number: 81 with model UnivariateMotif in generation 0 of 4\n",
      "Template Eval Error: ValueError('Model UnivariateMotif returned NaN for one or more series. fail_on_forecast_nan=True') in model 81 in generation 0: UnivariateMotif\n",
      "Model Number: 82 with model MultivariateMotif in generation 0 of 4\n",
      "Model Number: 83 with model Cassandra in generation 0 of 4\n"
     ]
    },
    {
     "name": "stderr",
     "output_type": "stream",
     "text": [
      "/opt/homebrew/anaconda3/lib/python3.10/site-packages/numpy/core/_methods.py:48: RuntimeWarning: invalid value encountered in reduce\n",
      "  return umr_sum(a, axis, dtype, out, keepdims, initial, where)\n",
      "/opt/homebrew/anaconda3/lib/python3.10/site-packages/numpy/lib/function_base.py:550: RuntimeWarning: invalid value encountered in divide\n",
      "  avg = np.multiply(a, wgt,\n"
     ]
    },
    {
     "name": "stdout",
     "output_type": "stream",
     "text": [
      "Model Number: 84 with model SectionalMotif in generation 0 of 4\n",
      "Model Number: 85 with model VAR in generation 0 of 4\n"
     ]
    },
    {
     "name": "stderr",
     "output_type": "stream",
     "text": [
      "/opt/homebrew/anaconda3/lib/python3.10/site-packages/autots/tools/holiday.py:40: FutureWarning: Indexing a timezone-naive DatetimeIndex with a timezone-aware datetime is deprecated and will raise KeyError in a future version.  Use a timezone-naive object instead.\n",
      "  USFederalHolidayCalendar()\n",
      "/opt/homebrew/anaconda3/lib/python3.10/site-packages/autots/tools/holiday.py:40: FutureWarning: Indexing a timezone-naive DatetimeIndex with a timezone-aware datetime is deprecated and will raise KeyError in a future version.  Use a timezone-naive object instead.\n",
      "  USFederalHolidayCalendar()\n"
     ]
    }
   ],
   "source": [
    "\n",
    "model = model.fit(\n",
    "    df,\n",
    "    date_col='time' if long else None,\n",
    "    value_col='memory_working_set_bytes' if long else None,\n",
    "    id_col='index' if long else None,\n",
    ")\n"
   ]
  },
  {
   "cell_type": "code",
   "execution_count": null,
   "metadata": {},
   "outputs": [],
   "source": [
    "\n",
    "prediction = model.predict()"
   ]
  },
  {
   "cell_type": "code",
   "execution_count": null,
   "metadata": {},
   "outputs": [],
   "source": [
    "\n",
    "# plot a sample\n",
    "prediction.plot(model.df_wide_numeric,\n",
    "                series=model.df_wide_numeric.columns[0],\n",
    "                start_date=\"2019-01-01\")"
   ]
  },
  {
   "cell_type": "code",
   "execution_count": null,
   "metadata": {},
   "outputs": [],
   "source": [
    "\n",
    "# Print the details of the best model\n",
    "print(model)\n",
    "\n",
    "# point forecasts dataframe\n",
    "forecasts_df = prediction.forecast\n",
    "# upper and lower forecasts\n",
    "forecasts_up, forecasts_low = prediction.upper_forecast, prediction.lower_forecast"
   ]
  },
  {
   "cell_type": "code",
   "execution_count": null,
   "metadata": {},
   "outputs": [],
   "source": [
    "\n",
    "# accuracy of all tried model results\n",
    "model_results = model.results()\n",
    "# and aggregated from cross validation\n",
    "validation_results = model.results(\"validation\")"
   ]
  }
 ],
 "metadata": {
  "kernelspec": {
   "display_name": "Python 3",
   "language": "python",
   "name": "python3"
  },
  "language_info": {
   "codemirror_mode": {
    "name": "ipython",
    "version": 3
   },
   "file_extension": ".py",
   "mimetype": "text/x-python",
   "name": "python",
   "nbconvert_exporter": "python",
   "pygments_lexer": "ipython3",
   "version": "3.10.9"
  },
  "orig_nbformat": 4,
  "vscode": {
   "interpreter": {
    "hash": "38cca0c38332a56087b24af0bc80247f4fced29cb4f7f437d91dc159adec9c4e"
   }
  }
 },
 "nbformat": 4,
 "nbformat_minor": 2
}
