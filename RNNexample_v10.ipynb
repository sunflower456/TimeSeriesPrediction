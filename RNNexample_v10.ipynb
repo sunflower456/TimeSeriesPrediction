{
 "cells": [
  {
   "cell_type": "code",
   "execution_count": null,
   "metadata": {},
   "outputs": [],
   "source": [
    "# LSTM + multiple model"
   ]
  },
  {
   "cell_type": "code",
   "execution_count": 1,
   "metadata": {},
   "outputs": [
    {
     "name": "stdout",
     "output_type": "stream",
     "text": [
      "Collecting package metadata (current_repodata.json): done\n",
      "Solving environment: done\n",
      "\n",
      "# All requested packages already installed.\n",
      "\n",
      "\n",
      "Note: you may need to restart the kernel to use updated packages.\n"
     ]
    }
   ],
   "source": [
    "conda install tensorflow"
   ]
  },
  {
   "cell_type": "code",
   "execution_count": 1,
   "metadata": {},
   "outputs": [],
   "source": [
    "import IPython\n",
    "import IPython.display\n",
    "import matplotlib as mpl\n",
    "import matplotlib.pyplot as plt\n",
    "import numpy as np\n",
    "import pandas as pd\n",
    "import seaborn as sns\n",
    "import tensorflow as tf\n",
    "from sklearn.metrics import mean_squared_error\n",
    "from math import sqrt"
   ]
  },
  {
   "cell_type": "code",
   "execution_count": 24,
   "metadata": {},
   "outputs": [],
   "source": [
    "data = pd.read_csv('../data/cpu_memory_usage_v1.csv', header=0)\n",
    "# 231635\n",
    "# 781952"
   ]
  },
  {
   "cell_type": "code",
   "execution_count": 25,
   "metadata": {},
   "outputs": [
    {
     "data": {
      "text/html": [
       "<div>\n",
       "<style scoped>\n",
       "    .dataframe tbody tr th:only-of-type {\n",
       "        vertical-align: middle;\n",
       "    }\n",
       "\n",
       "    .dataframe tbody tr th {\n",
       "        vertical-align: top;\n",
       "    }\n",
       "\n",
       "    .dataframe thead th {\n",
       "        text-align: right;\n",
       "    }\n",
       "</style>\n",
       "<table border=\"1\" class=\"dataframe\">\n",
       "  <thead>\n",
       "    <tr style=\"text-align: right;\">\n",
       "      <th></th>\n",
       "      <th>index</th>\n",
       "      <th>name</th>\n",
       "      <th>tags</th>\n",
       "      <th>time</th>\n",
       "      <th>pod_name</th>\n",
       "      <th>namespace</th>\n",
       "      <th>cpu_usage_nanocores</th>\n",
       "      <th>memory_working_set_bytes</th>\n",
       "    </tr>\n",
       "  </thead>\n",
       "  <tbody>\n",
       "    <tr>\n",
       "      <th>4</th>\n",
       "      <td>5</td>\n",
       "      <td>kubernetes_pod_container</td>\n",
       "      <td>NaN</td>\n",
       "      <td>2023-03-10 23:13:20</td>\n",
       "      <td>drive-az2-prd-69cbb999bc-chm2j</td>\n",
       "      <td>drive</td>\n",
       "      <td>93409866</td>\n",
       "      <td>1294434304</td>\n",
       "    </tr>\n",
       "    <tr>\n",
       "      <th>20</th>\n",
       "      <td>21</td>\n",
       "      <td>kubernetes_pod_container</td>\n",
       "      <td>NaN</td>\n",
       "      <td>2023-03-10 23:13:20</td>\n",
       "      <td>drive-az2-prd-69cbb999bc-chm2j</td>\n",
       "      <td>drive</td>\n",
       "      <td>60763677</td>\n",
       "      <td>1296531456</td>\n",
       "    </tr>\n",
       "    <tr>\n",
       "      <th>35</th>\n",
       "      <td>36</td>\n",
       "      <td>kubernetes_pod_container</td>\n",
       "      <td>NaN</td>\n",
       "      <td>2023-03-10 23:13:20</td>\n",
       "      <td>drive-az2-prd-69cbb999bc-chm2j</td>\n",
       "      <td>drive</td>\n",
       "      <td>76771766</td>\n",
       "      <td>1296531456</td>\n",
       "    </tr>\n",
       "    <tr>\n",
       "      <th>37</th>\n",
       "      <td>38</td>\n",
       "      <td>kubernetes_pod_container</td>\n",
       "      <td>NaN</td>\n",
       "      <td>2023-03-10 23:13:20</td>\n",
       "      <td>drive-az2-prd-69cbb999bc-chm2j</td>\n",
       "      <td>drive</td>\n",
       "      <td>101022354</td>\n",
       "      <td>1296531456</td>\n",
       "    </tr>\n",
       "    <tr>\n",
       "      <th>53</th>\n",
       "      <td>54</td>\n",
       "      <td>kubernetes_pod_container</td>\n",
       "      <td>NaN</td>\n",
       "      <td>2023-03-10 23:13:20</td>\n",
       "      <td>drive-az2-prd-69cbb999bc-chm2j</td>\n",
       "      <td>drive</td>\n",
       "      <td>76894003</td>\n",
       "      <td>1296531456</td>\n",
       "    </tr>\n",
       "    <tr>\n",
       "      <th>...</th>\n",
       "      <td>...</td>\n",
       "      <td>...</td>\n",
       "      <td>...</td>\n",
       "      <td>...</td>\n",
       "      <td>...</td>\n",
       "      <td>...</td>\n",
       "      <td>...</td>\n",
       "      <td>...</td>\n",
       "    </tr>\n",
       "    <tr>\n",
       "      <th>231578</th>\n",
       "      <td>231579</td>\n",
       "      <td>kubernetes_pod_container</td>\n",
       "      <td>NaN</td>\n",
       "      <td>2023-03-17 16:20:00</td>\n",
       "      <td>drive-az2-prd-69cbb999bc-chm2j</td>\n",
       "      <td>drive</td>\n",
       "      <td>15046036</td>\n",
       "      <td>1320103936</td>\n",
       "    </tr>\n",
       "    <tr>\n",
       "      <th>231591</th>\n",
       "      <td>231592</td>\n",
       "      <td>kubernetes_pod_container</td>\n",
       "      <td>NaN</td>\n",
       "      <td>2023-03-17 16:20:00</td>\n",
       "      <td>drive-az2-prd-69cbb999bc-chm2j</td>\n",
       "      <td>drive</td>\n",
       "      <td>25133138</td>\n",
       "      <td>1320128512</td>\n",
       "    </tr>\n",
       "    <tr>\n",
       "      <th>231607</th>\n",
       "      <td>231608</td>\n",
       "      <td>kubernetes_pod_container</td>\n",
       "      <td>NaN</td>\n",
       "      <td>2023-03-17 16:20:00</td>\n",
       "      <td>drive-az2-prd-69cbb999bc-chm2j</td>\n",
       "      <td>drive</td>\n",
       "      <td>18425930</td>\n",
       "      <td>1320128512</td>\n",
       "    </tr>\n",
       "    <tr>\n",
       "      <th>231622</th>\n",
       "      <td>231623</td>\n",
       "      <td>kubernetes_pod_container</td>\n",
       "      <td>NaN</td>\n",
       "      <td>2023-03-17 16:20:00</td>\n",
       "      <td>drive-az2-prd-69cbb999bc-chm2j</td>\n",
       "      <td>drive</td>\n",
       "      <td>15635455</td>\n",
       "      <td>1320128512</td>\n",
       "    </tr>\n",
       "    <tr>\n",
       "      <th>231624</th>\n",
       "      <td>231625</td>\n",
       "      <td>kubernetes_pod_container</td>\n",
       "      <td>NaN</td>\n",
       "      <td>2023-03-17 16:20:00</td>\n",
       "      <td>drive-az2-prd-69cbb999bc-chm2j</td>\n",
       "      <td>drive</td>\n",
       "      <td>16620236</td>\n",
       "      <td>1324359680</td>\n",
       "    </tr>\n",
       "  </tbody>\n",
       "</table>\n",
       "<p>19303 rows × 8 columns</p>\n",
       "</div>"
      ],
      "text/plain": [
       "         index                      name  tags                time  \\\n",
       "4            5  kubernetes_pod_container   NaN 2023-03-10 23:13:20   \n",
       "20          21  kubernetes_pod_container   NaN 2023-03-10 23:13:20   \n",
       "35          36  kubernetes_pod_container   NaN 2023-03-10 23:13:20   \n",
       "37          38  kubernetes_pod_container   NaN 2023-03-10 23:13:20   \n",
       "53          54  kubernetes_pod_container   NaN 2023-03-10 23:13:20   \n",
       "...        ...                       ...   ...                 ...   \n",
       "231578  231579  kubernetes_pod_container   NaN 2023-03-17 16:20:00   \n",
       "231591  231592  kubernetes_pod_container   NaN 2023-03-17 16:20:00   \n",
       "231607  231608  kubernetes_pod_container   NaN 2023-03-17 16:20:00   \n",
       "231622  231623  kubernetes_pod_container   NaN 2023-03-17 16:20:00   \n",
       "231624  231625  kubernetes_pod_container   NaN 2023-03-17 16:20:00   \n",
       "\n",
       "                              pod_name namespace  cpu_usage_nanocores  \\\n",
       "4       drive-az2-prd-69cbb999bc-chm2j     drive             93409866   \n",
       "20      drive-az2-prd-69cbb999bc-chm2j     drive             60763677   \n",
       "35      drive-az2-prd-69cbb999bc-chm2j     drive             76771766   \n",
       "37      drive-az2-prd-69cbb999bc-chm2j     drive            101022354   \n",
       "53      drive-az2-prd-69cbb999bc-chm2j     drive             76894003   \n",
       "...                                ...       ...                  ...   \n",
       "231578  drive-az2-prd-69cbb999bc-chm2j     drive             15046036   \n",
       "231591  drive-az2-prd-69cbb999bc-chm2j     drive             25133138   \n",
       "231607  drive-az2-prd-69cbb999bc-chm2j     drive             18425930   \n",
       "231622  drive-az2-prd-69cbb999bc-chm2j     drive             15635455   \n",
       "231624  drive-az2-prd-69cbb999bc-chm2j     drive             16620236   \n",
       "\n",
       "        memory_working_set_bytes  \n",
       "4                     1294434304  \n",
       "20                    1296531456  \n",
       "35                    1296531456  \n",
       "37                    1296531456  \n",
       "53                    1296531456  \n",
       "...                          ...  \n",
       "231578                1320103936  \n",
       "231591                1320128512  \n",
       "231607                1320128512  \n",
       "231622                1320128512  \n",
       "231624                1324359680  \n",
       "\n",
       "[19303 rows x 8 columns]"
      ]
     },
     "execution_count": 25,
     "metadata": {},
     "output_type": "execute_result"
    }
   ],
   "source": [
    "data['time'] = pd.to_datetime(data['time'], unit='ns')\n",
    "data1 = data.loc[data.pod_name == 'drive-az2-prd-69cbb999bc-2wdsh']\n",
    "data2 = data.loc[data.pod_name == 'drive-az2-prd-69cbb999bc-chm2j']\n",
    "date_time = pd.to_datetime(data['time'], format='%Y-%M-%D %H:%M:%S')\n",
    "data2"
   ]
  },
  {
   "cell_type": "code",
   "execution_count": 107,
   "metadata": {},
   "outputs": [],
   "source": [
    "def create_sequences(temp, seq_length):\n",
    "    xs = []\n",
    "    ys = []\n",
    "    for i in range(len(temp)-seq_length):\n",
    "        x = temp.iloc[i:(i+seq_length)]\n",
    "        y = temp.iloc[i+seq_length]\n",
    "        xs.append(x)\n",
    "        ys.append(y)\n",
    "    return np.array(xs), np.array(ys)"
   ]
  },
  {
   "cell_type": "code",
   "execution_count": 118,
   "metadata": {},
   "outputs": [],
   "source": [
    "data1 = data1.loc[:,['memory_working_set_bytes']]\n",
    "data2 = data2.loc[:,['memory_working_set_bytes']]"
   ]
  },
  {
   "cell_type": "code",
   "execution_count": 154,
   "metadata": {},
   "outputs": [],
   "source": [
    "data1.shape, data2.shape\n",
    "data2 = data2[:19299]"
   ]
  },
  {
   "cell_type": "code",
   "execution_count": 155,
   "metadata": {},
   "outputs": [],
   "source": [
    "seq_length = 24\n",
    "X1, Y1= create_sequences(data1, seq_length)\n",
    "X2, Y2= create_sequences(data2, seq_length)\n"
   ]
  },
  {
   "cell_type": "code",
   "execution_count": 156,
   "metadata": {},
   "outputs": [
    {
     "data": {
      "text/plain": [
       "((19299, 1), (19299, 1), (19275, 24, 1), (19275, 24, 1))"
      ]
     },
     "execution_count": 156,
     "metadata": {},
     "output_type": "execute_result"
    }
   ],
   "source": [
    "data1.shape, data2.shape, X1.shape, X2.shape"
   ]
  },
  {
   "cell_type": "code",
   "execution_count": 157,
   "metadata": {},
   "outputs": [],
   "source": [
    "train_size = 13000\n",
    "offset_size = 500\n",
    "X1_train, y1_train = X1[:train_size], Y1[:train_size]\n",
    "X1_val, y1_val = X1[train_size:train_size+offset_size], Y1[train_size:train_size+offset_size]\n",
    "X1_test, y1_test = X1[train_size+offset_size:], Y1[train_size+offset_size:]\n",
    "\n",
    "X2_train, y2_train = X2[:train_size], Y2[:train_size]\n",
    "X2_val, y2_val = X2[train_size:train_size+offset_size], Y2[train_size:train_size+offset_size]\n",
    "X2_test, y2_test = X2[train_size+offset_size:], Y2[train_size+offset_size:]"
   ]
  },
  {
   "cell_type": "code",
   "execution_count": 158,
   "metadata": {},
   "outputs": [
    {
     "data": {
      "text/plain": [
       "((5775, 24, 1), (5775, 24, 1))"
      ]
     },
     "execution_count": 158,
     "metadata": {},
     "output_type": "execute_result"
    }
   ],
   "source": [
    "X1_test.shape, X2_test.shape"
   ]
  },
  {
   "cell_type": "code",
   "execution_count": 159,
   "metadata": {},
   "outputs": [],
   "source": [
    "\n",
    "MIN1 = X1_train.min()\n",
    "MAX1 = X1_train.max()\n",
    "\n",
    "\n",
    "MIN2 = X2_train.min()\n",
    "MAX2 = X2_train.max()"
   ]
  },
  {
   "cell_type": "code",
   "execution_count": 160,
   "metadata": {},
   "outputs": [],
   "source": [
    "\n",
    "def MinMaxScale(array, min, max):\n",
    "\n",
    "    return (array - min) / (max - min)\n"
   ]
  },
  {
   "cell_type": "code",
   "execution_count": 161,
   "metadata": {},
   "outputs": [],
   "source": [
    "\n",
    "#MinMax 스케일링\n",
    "X1_train = MinMaxScale(X1_train, MIN1, MAX1)\n",
    "y1_train = MinMaxScale(y1_train, MIN1, MAX1)\n",
    "X1_val = MinMaxScale(X1_val, MIN1, MAX1)\n",
    "y1_val = MinMaxScale(y1_val, MIN1, MAX1)\n",
    "X1_test = MinMaxScale(X1_test, MIN1, MAX1)\n",
    "y1_test = MinMaxScale(y1_test, MIN1, MAX1)\n",
    "\n",
    "\n",
    "X2_train = MinMaxScale(X2_train, MIN2, MAX2)\n",
    "y2_train = MinMaxScale(y2_train, MIN2, MAX2)\n",
    "X2_val = MinMaxScale(X2_val, MIN2, MAX2)\n",
    "y2_val = MinMaxScale(y2_val, MIN2, MAX2)\n",
    "X2_test = MinMaxScale(X2_test, MIN2, MAX2)\n",
    "y2_test = MinMaxScale(y2_test, MIN2, MAX2)"
   ]
  },
  {
   "cell_type": "code",
   "execution_count": 162,
   "metadata": {},
   "outputs": [],
   "source": [
    "y1_train = pd.DataFrame(y1_train, columns = ['memory_working_set_bytes'])\n",
    "y1_val = pd.DataFrame(y1_val, columns = ['memory_working_set_bytes'])\n",
    "y1_test = pd.DataFrame(y1_test, columns = ['memory_working_set_bytes'])\n",
    "\n",
    "\n",
    "y2_train = pd.DataFrame(y2_train, columns = ['memory_working_set_bytes'])\n",
    "y2_val = pd.DataFrame(y2_val, columns = ['memory_working_set_bytes'])\n",
    "y2_test = pd.DataFrame(y2_test, columns = ['memory_working_set_bytes'])\n"
   ]
  },
  {
   "cell_type": "code",
   "execution_count": 163,
   "metadata": {},
   "outputs": [
    {
     "name": "stdout",
     "output_type": "stream",
     "text": [
      "Training Shape (13000, 1, 24) (13000, 1)\n",
      "Testing Shape (5775, 1, 24) (5775, 1)\n",
      "Training Shape (13000, 1, 24) (13000, 1)\n",
      "Testing Shape (5775, 1, 24) (5775, 1)\n"
     ]
    }
   ],
   "source": [
    "\n",
    "X1_train_tensors_f = tf.reshape(X1_train,   (X1_train.shape[0],1, X1_train.shape[1]))\n",
    "X1_test_tensors_f = tf.reshape(X1_test,  ( X1_test.shape[0], 1, X1_test.shape[1])) \n",
    "\n",
    "print(\"Training Shape\", X1_train_tensors_f.shape, y1_train.shape)\n",
    "print(\"Testing Shape\", X1_test_tensors_f.shape, y1_test.shape) \n",
    "\n",
    "\n",
    "X2_train_tensors_f = tf.reshape(X2_train,   (X2_train.shape[0], 1, X2_train.shape[1]))\n",
    "X2_test_tensors_f = tf.reshape(X2_test,  ( X2_test.shape[0], 1, X2_test.shape[1])) \n",
    "\n",
    "print(\"Training Shape\", X2_train_tensors_f.shape, y2_train.shape)\n",
    "print(\"Testing Shape\", X2_test_tensors_f.shape, y2_test.shape) "
   ]
  },
  {
   "cell_type": "code",
   "execution_count": 138,
   "metadata": {},
   "outputs": [],
   "source": [
    "class WindowGenerator():\n",
    "  def __init__(self, input_width, label_width, shift,\n",
    "               train_df=y1_train, test_df=y1_test,\n",
    "               label_columns=None):\n",
    "    # Store the raw data.\n",
    "    self.train_df = train_df\n",
    "    self.test_df = test_df\n",
    "\n",
    "    # Work out the label column indices.\n",
    "    self.label_columns = label_columns\n",
    "    if label_columns is not None:\n",
    "      self.label_columns_indices = {name: i for i, name in\n",
    "                                    enumerate(label_columns)}\n",
    "    self.column_indices = {name: i for i, name in\n",
    "                           enumerate(train_df.columns)}\n",
    "\n",
    "    # Work out the window parameters.\n",
    "    self.input_width = input_width\n",
    "    self.label_width = label_width\n",
    "    self.shift = shift\n",
    "\n",
    "    self.total_window_size = input_width + shift\n",
    "\n",
    "    self.input_slice = slice(0, input_width)\n",
    "    self.input_indices = np.arange(self.total_window_size)[self.input_slice]\n",
    "\n",
    "    self.label_start = self.total_window_size - self.label_width\n",
    "    self.labels_slice = slice(self.label_start, None)\n",
    "    self.label_indices = np.arange(self.total_window_size)[self.labels_slice]\n",
    "\n",
    "  def __repr__(self):\n",
    "    return '\\n'.join([\n",
    "        f'Total window size: {self.total_window_size}',\n",
    "        f'Input indices: {self.input_indices}',\n",
    "        f'Label indices: {self.label_indices}',\n",
    "        f'Label column name(s): {self.label_columns}'])"
   ]
  },
  {
   "cell_type": "code",
   "execution_count": 139,
   "metadata": {},
   "outputs": [],
   "source": [
    "def split_window(self, features):\n",
    "  inputs = features[:, self.input_slice, :]\n",
    "  labels = features[:, self.labels_slice, :]\n",
    "  if self.label_columns is not None:\n",
    "    labels = tf.stack(\n",
    "        [labels[:, :, self.column_indices[name]] for name in self.label_columns],\n",
    "        axis=-1)\n",
    "\n",
    "  # Slicing doesn't preserve static shape information, so set the shapes\n",
    "  # manually. This way the `tf.data.Datasets` are easier to inspect.\n",
    "  inputs.set_shape([None, self.input_width, None])\n",
    "  labels.set_shape([None, self.label_width, None])\n",
    "\n",
    "  return inputs, labels\n",
    "\n",
    "WindowGenerator.split_window = split_window"
   ]
  },
  {
   "cell_type": "code",
   "execution_count": 140,
   "metadata": {},
   "outputs": [],
   "source": [
    "def make_dataset(self, data):\n",
    "  data = np.array(data, dtype=np.float32)\n",
    "  ds = tf.keras.utils.timeseries_dataset_from_array(\n",
    "      data=data,\n",
    "      targets=None,\n",
    "      sequence_length=self.total_window_size,\n",
    "      sequence_stride=1,\n",
    "      shuffle=True,\n",
    "      batch_size=32,)\n",
    "\n",
    "  ds = ds.map(self.split_window)\n",
    "\n",
    "  return ds\n",
    "\n",
    "WindowGenerator.make_dataset = make_dataset"
   ]
  },
  {
   "cell_type": "code",
   "execution_count": 141,
   "metadata": {},
   "outputs": [],
   "source": [
    "@property\n",
    "def train(self):\n",
    "  return self.make_dataset(self.train_df)\n",
    "\n",
    "@property\n",
    "def test(self):\n",
    "  return self.make_dataset(self.test_df)\n",
    "\n",
    "@property\n",
    "def example(self):\n",
    "  \"\"\"Get and cache an example batch of `inputs, labels` for plotting.\"\"\"\n",
    "  result = getattr(self, '_example', None)\n",
    "  if result is None:\n",
    "    # No example batch was found, so get one from the `.train` dataset\n",
    "    result = next(iter(self.train))\n",
    "    # And cache it for next time\n",
    "    self._example = result\n",
    "  return result\n",
    "\n",
    "WindowGenerator.train = train\n",
    "WindowGenerator.test = test\n",
    "WindowGenerator.example = example"
   ]
  },
  {
   "cell_type": "code",
   "execution_count": 40,
   "metadata": {},
   "outputs": [
    {
     "data": {
      "text/plain": [
       "Total window size: 97\n",
       "Input indices: [ 0  1  2  3  4  5  6  7  8  9 10 11 12 13 14 15 16 17 18 19 20 21 22 23\n",
       " 24 25 26 27 28 29 30 31 32 33 34 35 36 37 38 39 40 41 42 43 44 45 46 47\n",
       " 48 49 50 51 52 53 54 55 56 57 58 59 60 61 62 63 64 65 66 67 68 69 70 71\n",
       " 72 73 74 75 76 77 78 79 80 81 82 83 84 85 86 87 88 89 90 91 92 93 94 95]\n",
       "Label indices: [ 1  2  3  4  5  6  7  8  9 10 11 12 13 14 15 16 17 18 19 20 21 22 23 24\n",
       " 25 26 27 28 29 30 31 32 33 34 35 36 37 38 39 40 41 42 43 44 45 46 47 48\n",
       " 49 50 51 52 53 54 55 56 57 58 59 60 61 62 63 64 65 66 67 68 69 70 71 72\n",
       " 73 74 75 76 77 78 79 80 81 82 83 84 85 86 87 88 89 90 91 92 93 94 95 96]\n",
       "Label column name(s): ['memory_working_set_bytes']"
      ]
     },
     "execution_count": 40,
     "metadata": {},
     "output_type": "execute_result"
    }
   ],
   "source": [
    "single_step_window = WindowGenerator(\n",
    "    input_width=96, label_width=96, shift=1,\n",
    "    label_columns=['memory_working_set_bytes'])\n",
    "single_step_window"
   ]
  },
  {
   "cell_type": "code",
   "execution_count": 41,
   "metadata": {},
   "outputs": [
    {
     "name": "stdout",
     "output_type": "stream",
     "text": [
      "All shapes are: (batch, time, features)\n",
      "Window shape: (3, 97, 1)\n",
      "Inputs shape: (3, 96, 1)\n",
      "Labels shape: (3, 96, 1)\n"
     ]
    }
   ],
   "source": [
    "example_window = tf.stack([np.array(y1_train[:single_step_window.total_window_size]),\n",
    "                           np.array(y1_train[1000:1000+single_step_window.total_window_size]),\n",
    "                           np.array(y1_train[2000:2000+single_step_window.total_window_size])])\n",
    "\n",
    "example_inputs, example_labels = single_step_window.split_window(example_window)\n",
    "\n",
    "print('All shapes are: (batch, time, features)')\n",
    "print(f'Window shape: {example_window.shape}')\n",
    "print(f'Inputs shape: {example_inputs.shape}')\n",
    "print(f'Labels shape: {example_labels.shape}')"
   ]
  },
  {
   "cell_type": "code",
   "execution_count": 42,
   "metadata": {},
   "outputs": [],
   "source": [
    "\n",
    "# evaluate the RMSE for each forecast time step\n",
    "def evaluate_forecasts(test, forecasts, n_lag, n_seq):\n",
    "\tfor i in range(n_seq):\n",
    "\t\tactual = [row[i] for row in test]\n",
    "\t\tpredicted = [forecast[i] for forecast in forecasts]\n",
    "\t\trmse = sqrt(mean_squared_error(actual, predicted))\n",
    "\t\tprint('t+%d RMSE: %f' % ((i+1), rmse))\n",
    " "
   ]
  },
  {
   "cell_type": "code",
   "execution_count": 43,
   "metadata": {},
   "outputs": [],
   "source": [
    "class Baseline(tf.keras.Model):\n",
    "  def __init__(self, label_index=None):\n",
    "    super().__init__()\n",
    "    self.label_index = label_index\n",
    "\n",
    "  def call(self, inputs):\n",
    "    if self.label_index is None:\n",
    "      return inputs\n",
    "    result = inputs[:, :, self.label_index]\n",
    "    return result[:, :, tf.newaxis]"
   ]
  },
  {
   "cell_type": "code",
   "execution_count": 45,
   "metadata": {},
   "outputs": [
    {
     "data": {
      "text/plain": [
       "{'Baseline': [0.0028738456312566996, 0.012517966330051422]}"
      ]
     },
     "execution_count": 45,
     "metadata": {},
     "output_type": "execute_result"
    }
   ],
   "source": [
    "column_indices = {name: i for i, name in enumerate(data1.columns)}\n",
    "baseline = Baseline(label_index=column_indices['memory_working_set_bytes'])\n",
    "\n",
    "baseline.compile(loss=tf.keras.losses.MeanSquaredError(),\n",
    "                 metrics=[tf.keras.metrics.MeanAbsoluteError()])\n",
    "\n",
    "performance = {}\n",
    "performance['Baseline'] = baseline.evaluate(single_step_window.test, verbose=0)\n",
    "performance"
   ]
  },
  {
   "cell_type": "code",
   "execution_count": 46,
   "metadata": {},
   "outputs": [
    {
     "data": {
      "text/plain": [
       "TensorShape([32, 96, 1])"
      ]
     },
     "execution_count": 46,
     "metadata": {},
     "output_type": "execute_result"
    }
   ],
   "source": [
    "inputs, labels = single_step_window.example\n",
    "train_predict = baseline(inputs)\n",
    "train_predict.shape"
   ]
  },
  {
   "cell_type": "code",
   "execution_count": 47,
   "metadata": {},
   "outputs": [
    {
     "data": {
      "text/plain": [
       "0"
      ]
     },
     "execution_count": 47,
     "metadata": {},
     "output_type": "execute_result"
    }
   ],
   "source": [
    "plot_col_index = single_step_window.column_indices['memory_working_set_bytes']\n",
    "plot_col_index"
   ]
  },
  {
   "cell_type": "code",
   "execution_count": 49,
   "metadata": {},
   "outputs": [
    {
     "data": {
      "image/png": "[encoded data removed]",
      "text/plain": [
       "<Figure size 1000x600 with 1 Axes>"
      ]
     },
     "metadata": {},
     "output_type": "display_data"
    }
   ],
   "source": [
    "\n",
    "plt.figure(figsize=(10,6)) \n",
    "plt.axvline(c='r', linestyle='--') \n",
    "plt.plot(single_step_window.input_indices, inputs[0, :, plot_col_index],\n",
    "            label='Inputs')\n",
    "plt.plot(single_step_window.input_indices, train_predict[0, :, single_step_window.label_columns_indices.get('memory_working_set_bytes', None)],\n",
    "            label='Prediction')\n",
    "# plt.scatter(single_step_window.label_indices, train_predict[0, :, single_step_window.label_columns_indices.get('memory_working_set_bytes', None)],\n",
    "#             marker='X', edgecolors='k', label='Predictions',\n",
    "#             c='#ff7f0e', s=64)\n",
    "\n",
    "plt.title('Time-Series Prediction')\n",
    "plt.legend()\n",
    "plt.show() "
   ]
  },
  {
   "cell_type": "code",
   "execution_count": 181,
   "metadata": {},
   "outputs": [],
   "source": [
    "\n",
    "inputA = tf.keras.layers.Input(shape=(1, 24, ))\n",
    "inputB = tf.keras.layers.Input(shape=(1, 24, ))\n",
    "\n",
    "a = tf.keras.layers.LSTM(32, return_sequences=False,activation=\"relu\")(inputA)\n",
    "a = tf.keras.layers.Dense(units=32, activation='relu')(a)\n",
    "a = tf.keras.layers.Dense(units=1)(a)\n",
    "a = tf.keras.models.Model(inputs=inputA, outputs=a)\n",
    "\n",
    "\n",
    "b = tf.keras.layers.LSTM(32, return_sequences=False,activation=\"relu\")(inputB)\n",
    "b = tf.keras.layers.Dense(units=32, activation='relu')(b)\n",
    "b = tf.keras.layers.Dense(units=1)(b)\n",
    "b = tf.keras.models.Model(inputs=inputB, outputs=b)\n",
    "\n",
    "\n",
    "# combined = tf.keras.layers.concatenate([a.output, b.output])\n",
    "\n",
    "\n",
    "# result = tf.keras.layers.Dense(2, activation=\"relu\")(combined)\n",
    "# result = tf.keras.layers.Dense(1, activation=\"linear\")(result)\n",
    "\n",
    "model = tf.keras.models.Model(inputs=[a.input, b.input], outputs=[a.output, b.output])"
   ]
  },
  {
   "cell_type": "code",
   "execution_count": 182,
   "metadata": {},
   "outputs": [
    {
     "name": "stdout",
     "output_type": "stream",
     "text": [
      "Epoch 1/1000\n",
      "372/407 [==========================>...] - ETA: 0s - loss: 0.0081 - dense_49_loss: 0.0032 - dense_51_loss: 0.0049 - dense_49_mean_absolute_error: 0.0328 - dense_51_mean_absolute_error: 0.0410\n",
      "Epoch 1: loss improved from inf to 0.00763, saving model to model/tmp_checkpoint_v3.h5\n",
      "407/407 [==============================] - 1s 1ms/step - loss: 0.0076 - dense_49_loss: 0.0031 - dense_51_loss: 0.0046 - dense_49_mean_absolute_error: 0.0317 - dense_51_mean_absolute_error: 0.0394\n",
      "Epoch 2/1000\n",
      "359/407 [=========================>....] - ETA: 0s - loss: 0.0022 - dense_49_loss: 9.5934e-04 - dense_51_loss: 0.0013 - dense_49_mean_absolute_error: 0.0164 - dense_51_mean_absolute_error: 0.0191\n",
      "Epoch 2: loss improved from 0.00763 to 0.00220, saving model to model/tmp_checkpoint_v3.h5\n",
      "407/407 [==============================] - 0s 883us/step - loss: 0.0022 - dense_49_loss: 9.7137e-04 - dense_51_loss: 0.0012 - dense_49_mean_absolute_error: 0.0164 - dense_51_mean_absolute_error: 0.0187\n",
      "Epoch 3/1000\n",
      "350/407 [========================>.....] - ETA: 0s - loss: 0.0019 - dense_49_loss: 8.1064e-04 - dense_51_loss: 0.0011 - dense_49_mean_absolute_error: 0.0150 - dense_51_mean_absolute_error: 0.0167\n",
      "Epoch 3: loss improved from 0.00220 to 0.00187, saving model to model/tmp_checkpoint_v3.h5\n",
      "407/407 [==============================] - 0s 903us/step - loss: 0.0019 - dense_49_loss: 8.0149e-04 - dense_51_loss: 0.0011 - dense_49_mean_absolute_error: 0.0148 - dense_51_mean_absolute_error: 0.0167\n",
      "Epoch 4/1000\n",
      "375/407 [==========================>...] - ETA: 0s - loss: 0.0017 - dense_49_loss: 7.3495e-04 - dense_51_loss: 9.7731e-04 - dense_49_mean_absolute_error: 0.0135 - dense_51_mean_absolute_error: 0.0154\n",
      "Epoch 4: loss improved from 0.00187 to 0.00171, saving model to model/tmp_checkpoint_v3.h5\n",
      "407/407 [==============================] - 0s 844us/step - loss: 0.0017 - dense_49_loss: 7.3227e-04 - dense_51_loss: 9.8006e-04 - dense_49_mean_absolute_error: 0.0134 - dense_51_mean_absolute_error: 0.0152\n",
      "Epoch 5/1000\n",
      "387/407 [===========================>..] - ETA: 0s - loss: 0.0016 - dense_49_loss: 7.0142e-04 - dense_51_loss: 9.3925e-04 - dense_49_mean_absolute_error: 0.0129 - dense_51_mean_absolute_error: 0.0144\n",
      "Epoch 5: loss improved from 0.00171 to 0.00161, saving model to model/tmp_checkpoint_v3.h5\n",
      "407/407 [==============================] - 0s 1ms/step - loss: 0.0016 - dense_49_loss: 6.9172e-04 - dense_51_loss: 9.2286e-04 - dense_49_mean_absolute_error: 0.0129 - dense_51_mean_absolute_error: 0.0143\n",
      "Epoch 6/1000\n",
      "375/407 [==========================>...] - ETA: 0s - loss: 0.0016 - dense_49_loss: 6.5509e-04 - dense_51_loss: 9.2675e-04 - dense_49_mean_absolute_error: 0.0123 - dense_51_mean_absolute_error: 0.0145\n",
      "Epoch 6: loss improved from 0.00161 to 0.00158, saving model to model/tmp_checkpoint_v3.h5\n",
      "407/407 [==============================] - 0s 1ms/step - loss: 0.0016 - dense_49_loss: 6.7054e-04 - dense_51_loss: 9.0712e-04 - dense_49_mean_absolute_error: 0.0125 - dense_51_mean_absolute_error: 0.0144\n",
      "Epoch 7/1000\n",
      "381/407 [===========================>..] - ETA: 0s - loss: 0.0015 - dense_49_loss: 6.5889e-04 - dense_51_loss: 8.6134e-04 - dense_49_mean_absolute_error: 0.0124 - dense_51_mean_absolute_error: 0.0132\n",
      "Epoch 7: loss improved from 0.00158 to 0.00154, saving model to model/tmp_checkpoint_v3.h5\n",
      "407/407 [==============================] - 0s 964us/step - loss: 0.0015 - dense_49_loss: 6.5708e-04 - dense_51_loss: 8.7942e-04 - dense_49_mean_absolute_error: 0.0123 - dense_51_mean_absolute_error: 0.0135\n",
      "Epoch 8/1000\n",
      "405/407 [============================>.] - ETA: 0s - loss: 0.0015 - dense_49_loss: 6.5293e-04 - dense_51_loss: 8.8746e-04 - dense_49_mean_absolute_error: 0.0122 - dense_51_mean_absolute_error: 0.0139\n",
      "Epoch 8: loss did not improve from 0.00154\n",
      "407/407 [==============================] - 0s 1ms/step - loss: 0.0015 - dense_49_loss: 6.5338e-04 - dense_51_loss: 8.8553e-04 - dense_49_mean_absolute_error: 0.0122 - dense_51_mean_absolute_error: 0.0138\n",
      "Epoch 9/1000\n",
      "386/407 [===========================>..] - ETA: 0s - loss: 0.0015 - dense_49_loss: 6.3563e-04 - dense_51_loss: 8.9194e-04 - dense_49_mean_absolute_error: 0.0119 - dense_51_mean_absolute_error: 0.0137\n",
      "Epoch 9: loss improved from 0.00154 to 0.00153, saving model to model/tmp_checkpoint_v3.h5\n",
      "407/407 [==============================] - 0s 961us/step - loss: 0.0015 - dense_49_loss: 6.4395e-04 - dense_51_loss: 8.8862e-04 - dense_49_mean_absolute_error: 0.0119 - dense_51_mean_absolute_error: 0.0138\n",
      "Epoch 10/1000\n",
      "373/407 [==========================>...] - ETA: 0s - loss: 0.0015 - dense_49_loss: 6.9763e-04 - dense_51_loss: 8.4595e-04 - dense_49_mean_absolute_error: 0.0130 - dense_51_mean_absolute_error: 0.0134\n",
      "Epoch 10: loss improved from 0.00153 to 0.00153, saving model to model/tmp_checkpoint_v3.h5\n",
      "407/407 [==============================] - 0s 1ms/step - loss: 0.0015 - dense_49_loss: 6.6860e-04 - dense_51_loss: 8.5773e-04 - dense_49_mean_absolute_error: 0.0127 - dense_51_mean_absolute_error: 0.0133\n",
      "Epoch 11/1000\n",
      "393/407 [===========================>..] - ETA: 0s - loss: 0.0015 - dense_49_loss: 6.1412e-04 - dense_51_loss: 8.8806e-04 - dense_49_mean_absolute_error: 0.0114 - dense_51_mean_absolute_error: 0.0140\n",
      "Epoch 11: loss improved from 0.00153 to 0.00150, saving model to model/tmp_checkpoint_v3.h5\n",
      "407/407 [==============================] - 0s 953us/step - loss: 0.0015 - dense_49_loss: 6.1728e-04 - dense_51_loss: 8.8251e-04 - dense_49_mean_absolute_error: 0.0114 - dense_51_mean_absolute_error: 0.0140\n",
      "Epoch 12/1000\n",
      "403/407 [============================>.] - ETA: 0s - loss: 0.0015 - dense_49_loss: 6.5519e-04 - dense_51_loss: 8.5938e-04 - dense_49_mean_absolute_error: 0.0125 - dense_51_mean_absolute_error: 0.0135\n",
      "Epoch 12: loss did not improve from 0.00150\n",
      "407/407 [==============================] - 0s 898us/step - loss: 0.0015 - dense_49_loss: 6.5250e-04 - dense_51_loss: 8.5617e-04 - dense_49_mean_absolute_error: 0.0125 - dense_51_mean_absolute_error: 0.0135\n",
      "Epoch 13/1000\n",
      "380/407 [===========================>..] - ETA: 0s - loss: 0.0015 - dense_49_loss: 6.1747e-04 - dense_51_loss: 8.5327e-04 - dense_49_mean_absolute_error: 0.0120 - dense_51_mean_absolute_error: 0.0132\n",
      "Epoch 13: loss improved from 0.00150 to 0.00148, saving model to model/tmp_checkpoint_v3.h5\n",
      "407/407 [==============================] - 0s 969us/step - loss: 0.0015 - dense_49_loss: 6.2609e-04 - dense_51_loss: 8.5595e-04 - dense_49_mean_absolute_error: 0.0120 - dense_51_mean_absolute_error: 0.0133\n",
      "Epoch 14/1000\n",
      "362/407 [=========================>....] - ETA: 0s - loss: 0.0015 - dense_49_loss: 5.7833e-04 - dense_51_loss: 8.9284e-04 - dense_49_mean_absolute_error: 0.0111 - dense_51_mean_absolute_error: 0.0142\n",
      "Epoch 14: loss did not improve from 0.00148\n",
      "407/407 [==============================] - 0s 834us/step - loss: 0.0015 - dense_49_loss: 6.0892e-04 - dense_51_loss: 8.7651e-04 - dense_49_mean_absolute_error: 0.0113 - dense_51_mean_absolute_error: 0.0141\n",
      "Epoch 15/1000\n",
      "376/407 [==========================>...] - ETA: 0s - loss: 0.0014 - dense_49_loss: 6.0914e-04 - dense_51_loss: 8.2535e-04 - dense_49_mean_absolute_error: 0.0112 - dense_51_mean_absolute_error: 0.0129\n",
      "Epoch 15: loss improved from 0.00148 to 0.00144, saving model to model/tmp_checkpoint_v3.h5\n",
      "407/407 [==============================] - 0s 847us/step - loss: 0.0014 - dense_49_loss: 5.9933e-04 - dense_51_loss: 8.4439e-04 - dense_49_mean_absolute_error: 0.0111 - dense_51_mean_absolute_error: 0.0131\n",
      "Epoch 16/1000\n",
      "355/407 [=========================>....] - ETA: 0s - loss: 0.0014 - dense_49_loss: 5.7735e-04 - dense_51_loss: 8.7042e-04 - dense_49_mean_absolute_error: 0.0110 - dense_51_mean_absolute_error: 0.0137\n",
      "Epoch 16: loss did not improve from 0.00144\n",
      "407/407 [==============================] - 0s 975us/step - loss: 0.0015 - dense_49_loss: 5.8798e-04 - dense_51_loss: 8.6613e-04 - dense_49_mean_absolute_error: 0.0108 - dense_51_mean_absolute_error: 0.0137\n",
      "Epoch 17/1000\n",
      "373/407 [==========================>...] - ETA: 0s - loss: 0.0015 - dense_49_loss: 6.1896e-04 - dense_51_loss: 8.6655e-04 - dense_49_mean_absolute_error: 0.0115 - dense_51_mean_absolute_error: 0.0132\n",
      "Epoch 17: loss did not improve from 0.00144\n",
      "407/407 [==============================] - 0s 819us/step - loss: 0.0015 - dense_49_loss: 6.1568e-04 - dense_51_loss: 8.4823e-04 - dense_49_mean_absolute_error: 0.0114 - dense_51_mean_absolute_error: 0.0132\n"
     ]
    }
   ],
   "source": [
    "import os\n",
    "from keras.callbacks import EarlyStopping, ModelCheckpoint\n",
    "\n",
    "MAX_EPOCHS = 1000\n",
    "\n",
    "early_stopping = tf.keras.callbacks.EarlyStopping(monitor='loss',\n",
    "                                                patience=2,\n",
    "                                                mode='min')\n",
    "\n",
    "model.compile(loss=tf.keras.losses.MeanSquaredError(),\n",
    "            optimizer=tf.keras.optimizers.Adam(),\n",
    "            metrics=[tf.keras.metrics.MeanAbsoluteError()])\n",
    "\n",
    "model_path = 'model'\n",
    "filename = os.path.join(model_path, 'tmp_checkpoint_v3.h5')\n",
    "checkpoint = ModelCheckpoint(filename, monitor='loss', verbose=1, save_best_only=True, mode='auto')\n",
    "history = model.fit(x=[X1_train_tensors_f, X2_train_tensors_f], y=[y1_train, y2_train], epochs=MAX_EPOCHS,\n",
    "                    callbacks=[early_stopping, checkpoint])\n"
   ]
  },
  {
   "cell_type": "code",
   "execution_count": 183,
   "metadata": {},
   "outputs": [],
   "source": [
    "performance['lstm_model'] = model.evaluate(x=[X1_train_tensors_f, X2_train_tensors_f], y=[y1_train, y2_train], verbose=0)"
   ]
  },
  {
   "cell_type": "code",
   "execution_count": 184,
   "metadata": {},
   "outputs": [
    {
     "name": "stdout",
     "output_type": "stream",
     "text": [
      "181/181 [==============================] - 0s 443us/step\n"
     ]
    }
   ],
   "source": [
    "train_predict = model.predict([X1_test_tensors_f, X2_test_tensors_f])"
   ]
  },
  {
   "cell_type": "code",
   "execution_count": 192,
   "metadata": {},
   "outputs": [
    {
     "data": {
      "image/png": "[encoded data removed]",
      "text/plain": [
       "<Figure size 1000x600 with 1 Axes>"
      ]
     },
     "metadata": {},
     "output_type": "display_data"
    }
   ],
   "source": [
    "\n",
    "predicted = train_predict[1] * MAX2\n",
    "label_y = y2_test * MAX2\n",
    "plt.figure(figsize=(10,6)) \n",
    "plt.axvline(x=200, c='r', linestyle='--') \n",
    "\n",
    "plt.plot(label_y, label='Actual Data') \n",
    "plt.plot(predicted, label='Predicted Data') \n",
    "plt.title('Time-Series Prediction')\n",
    "plt.legend()\n",
    "plt.show() "
   ]
  },
  {
   "cell_type": "code",
   "execution_count": 193,
   "metadata": {},
   "outputs": [
    {
     "name": "stdout",
     "output_type": "stream",
     "text": [
      "Baseline    : 0.0125\n",
      "lstm_model  : 0.0006\n"
     ]
    }
   ],
   "source": [
    "for name, value in performance.items():\n",
    "  print(f'{name:12s}: {value[1]:0.4f}')\n",
    "# performance"
   ]
  }
 ],
 "metadata": {
  "kernelspec": {
   "display_name": "Python 3",
   "language": "python",
   "name": "python3"
  },
  "language_info": {
   "codemirror_mode": {
    "name": "ipython",
    "version": 3
   },
   "file_extension": ".py",
   "mimetype": "text/x-python",
   "name": "python",
   "nbconvert_exporter": "python",
   "pygments_lexer": "ipython3",
   "version": "3.10.9"
  },
  "orig_nbformat": 4,
  "vscode": {
   "interpreter": {
    "hash": "38cca0c38332a56087b24af0bc80247f4fced29cb4f7f437d91dc159adec9c4e"
   }
  }
 },
 "nbformat": 4,
 "nbformat_minor": 2
}
