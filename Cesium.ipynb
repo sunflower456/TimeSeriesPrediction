{
 "cells": [
  {
   "cell_type": "code",
   "execution_count": 1,
   "metadata": {},
   "outputs": [
    {
     "name": "stdout",
     "output_type": "stream",
     "text": [
      "Collecting cesium\n",
      "  Downloading cesium-0.11.1-cp310-cp310-macosx_12_0_arm64.whl (324 kB)\n",
      "\u001b[2K     \u001b[90m━━━━━━━━━━━━━━━━━━━━━━━━━━━━━━━━━━━━━━\u001b[0m \u001b[32m324.6/324.6 kB\u001b[0m \u001b[31m10.8 MB/s\u001b[0m eta \u001b[36m0:00:00\u001b[0m\n",
      "\u001b[?25hRequirement already satisfied: dask>=2.5.0 in /opt/homebrew/anaconda3/lib/python3.10/site-packages (from cesium) (2022.7.0)\n",
      "Requirement already satisfied: numpy>=1.14.3 in /opt/homebrew/anaconda3/lib/python3.10/site-packages (from cesium) (1.23.5)\n",
      "Requirement already satisfied: toolz in /opt/homebrew/anaconda3/lib/python3.10/site-packages (from cesium) (0.12.0)\n",
      "Requirement already satisfied: scikit-learn>=0.22.1 in /opt/homebrew/anaconda3/lib/python3.10/site-packages (from cesium) (1.2.1)\n",
      "Collecting gatspy>=0.3.0\n",
      "  Downloading gatspy-0.3.tar.gz (554 kB)\n",
      "\u001b[2K     \u001b[90m━━━━━━━━━━━━━━━━━━━━━━━━━━━━━━━━━━━━━━\u001b[0m \u001b[32m554.5/554.5 kB\u001b[0m \u001b[31m29.0 MB/s\u001b[0m eta \u001b[36m0:00:00\u001b[0m\n",
      "\u001b[?25h  Preparing metadata (setup.py) ... \u001b[?25ldone\n",
      "\u001b[?25hRequirement already satisfied: cloudpickle in /opt/homebrew/anaconda3/lib/python3.10/site-packages (from cesium) (2.0.0)\n",
      "Requirement already satisfied: pandas>=0.17.0 in /opt/homebrew/anaconda3/lib/python3.10/site-packages (from cesium) (1.5.3)\n",
      "Requirement already satisfied: joblib>=0.14.1 in /opt/homebrew/anaconda3/lib/python3.10/site-packages (from cesium) (1.1.1)\n",
      "Collecting setuptools-scm>=7.1.0\n",
      "  Downloading setuptools_scm-7.1.0-py3-none-any.whl (43 kB)\n",
      "\u001b[2K     \u001b[90m━━━━━━━━━━━━━━━━━━━━━━━━━━━━━━━━━━━━━━━━\u001b[0m \u001b[32m43.8/43.8 kB\u001b[0m \u001b[31m4.6 MB/s\u001b[0m eta \u001b[36m0:00:00\u001b[0m\n",
      "\u001b[?25hRequirement already satisfied: scipy>=0.16.0 in /opt/homebrew/anaconda3/lib/python3.10/site-packages (from cesium) (1.9.3)\n",
      "Requirement already satisfied: partd>=0.3.10 in /opt/homebrew/anaconda3/lib/python3.10/site-packages (from dask>=2.5.0->cesium) (1.2.0)\n",
      "Requirement already satisfied: pyyaml>=5.3.1 in /opt/homebrew/anaconda3/lib/python3.10/site-packages (from dask>=2.5.0->cesium) (6.0)\n",
      "Requirement already satisfied: packaging>=20.0 in /opt/homebrew/anaconda3/lib/python3.10/site-packages (from dask>=2.5.0->cesium) (22.0)\n",
      "Requirement already satisfied: fsspec>=0.6.0 in /opt/homebrew/anaconda3/lib/python3.10/site-packages (from dask>=2.5.0->cesium) (2022.11.0)\n",
      "Requirement already satisfied: python-dateutil>=2.8.1 in /opt/homebrew/anaconda3/lib/python3.10/site-packages (from pandas>=0.17.0->cesium) (2.8.2)\n",
      "Requirement already satisfied: pytz>=2020.1 in /opt/homebrew/anaconda3/lib/python3.10/site-packages (from pandas>=0.17.0->cesium) (2022.7)\n",
      "Requirement already satisfied: threadpoolctl>=2.0.0 in /opt/homebrew/anaconda3/lib/python3.10/site-packages (from scikit-learn>=0.22.1->cesium) (2.2.0)\n",
      "Requirement already satisfied: typing-extensions in /opt/homebrew/anaconda3/lib/python3.10/site-packages (from setuptools-scm>=7.1.0->cesium) (4.4.0)\n",
      "Requirement already satisfied: tomli>=1.0.0 in /opt/homebrew/anaconda3/lib/python3.10/site-packages (from setuptools-scm>=7.1.0->cesium) (2.0.1)\n",
      "Requirement already satisfied: setuptools in /opt/homebrew/anaconda3/lib/python3.10/site-packages (from setuptools-scm>=7.1.0->cesium) (65.6.3)\n",
      "Requirement already satisfied: locket in /opt/homebrew/anaconda3/lib/python3.10/site-packages (from partd>=0.3.10->dask>=2.5.0->cesium) (1.0.0)\n",
      "Requirement already satisfied: six>=1.5 in /opt/homebrew/anaconda3/lib/python3.10/site-packages (from python-dateutil>=2.8.1->pandas>=0.17.0->cesium) (1.16.0)\n",
      "Building wheels for collected packages: gatspy\n",
      "  Building wheel for gatspy (setup.py) ... \u001b[?25ldone\n",
      "\u001b[?25h  Created wheel for gatspy: filename=gatspy-0.3-py3-none-any.whl size=43803 sha256=8b79abc4905e064b635f148a7fa58d2be942984893ffcbccc4605fb17fa7c864\n",
      "  Stored in directory: /Users/sunflower/Library/Caches/pip/wheels/19/bb/75/b45c8581c921cc0e94560caf49b75a8eba8c272755f19877c7\n",
      "Successfully built gatspy\n",
      "Installing collected packages: gatspy, setuptools-scm, cesium\n",
      "Successfully installed cesium-0.11.1 gatspy-0.3 setuptools-scm-7.1.0\n",
      "Note: you may need to restart the kernel to use updated packages.\n"
     ]
    }
   ],
   "source": [
    "pip install cesium\n"
   ]
  },
  {
   "cell_type": "code",
   "execution_count": 18,
   "metadata": {},
   "outputs": [
    {
     "name": "stdout",
     "output_type": "stream",
     "text": [
      "<class 'pandas.core.frame.DataFrame'>\n",
      "RangeIndex: 3434 entries, 0 to 3433\n",
      "Data columns (total 13 columns):\n",
      " #   Column     Non-Null Count  Dtype  \n",
      "---  ------     --------------  -----  \n",
      " 0   id         3434 non-null   int64  \n",
      " 1   time       3434 non-null   int64  \n",
      " 2   fd         3434 non-null   float64\n",
      " 3   fs_usage   3434 non-null   float64\n",
      " 4   socket     3434 non-null   float64\n",
      " 5   thread     3434 non-null   float64\n",
      " 6   cpu        3434 non-null   float64\n",
      " 7   memory     3434 non-null   float64\n",
      " 8   rss        3434 non-null   float64\n",
      " 9   rx_bytes   3434 non-null   float64\n",
      " 10  rx_errors  3434 non-null   float64\n",
      " 11  tx_bytes   3434 non-null   float64\n",
      " 12  tx_errors  3434 non-null   float64\n",
      "dtypes: float64(11), int64(2)\n",
      "memory usage: 348.9 KB\n"
     ]
    }
   ],
   "source": [
    "import numpy as np\n",
    "import matplotlib.pyplot as plt\n",
    "import seaborn; seaborn.set()\n",
    "\n",
    "from cesium import datasets\n",
    "\n",
    "import pandas as pd\n",
    "data = pd.read_csv('../data/merged_pod_data_v2.csv', header=0)\n",
    "data = data.loc[:,data.columns != 'pod']\n",
    "data.info()"
   ]
  },
  {
   "cell_type": "code",
   "execution_count": 50,
   "metadata": {},
   "outputs": [],
   "source": [
    "time = data['time'].to_numpy()\n",
    "memory = data['memory'].to_numpy()"
   ]
  },
  {
   "cell_type": "code",
   "execution_count": 54,
   "metadata": {},
   "outputs": [
    {
     "name": "stdout",
     "output_type": "stream",
     "text": [
      "feature     amplitude percent_beyond_1_std       maximum max_slope  \\\n",
      "channel             0                    0             0         0   \n",
      "0        2.327660e+08             0.259755  1.541701e+09       NaN   \n",
      "\n",
      "feature        median median_absolute_deviation percent_close_to_median  \\\n",
      "channel             0                         0                       0   \n",
      "0        1.186107e+09              3.481704e+07                0.613861   \n",
      "\n",
      "feature       minimum      skew           std weighted_average  \n",
      "channel             0         0             0                0  \n",
      "0        1.076169e+09  1.183946  6.368164e+07     1.189685e+09  \n"
     ]
    },
    {
     "name": "stderr",
     "output_type": "stream",
     "text": [
      "/opt/homebrew/anaconda3/lib/python3.10/site-packages/cesium/features/common_functions.py:7: RuntimeWarning: divide by zero encountered in divide\n",
      "  slopes = np.diff(x) / np.diff(t)\n",
      "/opt/homebrew/anaconda3/lib/python3.10/site-packages/cesium/features/common_functions.py:7: RuntimeWarning: invalid value encountered in divide\n",
      "  slopes = np.diff(x) / np.diff(t)\n"
     ]
    }
   ],
   "source": [
    "from cesium import featurize\n",
    "features_to_use = [\"amplitude\",\n",
    "                   \"percent_beyond_1_std\",\n",
    "                   \"maximum\",\n",
    "                   \"max_slope\",\n",
    "                   \"median\",\n",
    "                   \"median_absolute_deviation\",\n",
    "                   \"percent_close_to_median\",\n",
    "                   \"minimum\",\n",
    "                   \"skew\",\n",
    "                   \"std\",\n",
    "                   \"weighted_average\"]\n",
    "fset_cesium = featurize.featurize_time_series(times=time,\n",
    "                                              values=memory,\n",
    "                                              errors=None,\n",
    "                                              features_to_use=features_to_use)\n",
    "print(fset_cesium.head())"
   ]
  },
  {
   "cell_type": "code",
   "execution_count": 34,
   "metadata": {},
   "outputs": [
    {
     "data": {
      "text/plain": [
       "array([0.00000000e+00, 1.67967360e+18, 6.12110000e+02, 1.96343439e+08,\n",
       "       3.49170000e+02, 3.83590000e+02, 1.62296164e+07, 1.10157666e+09,\n",
       "       5.59923524e+08, 1.71623048e+10, 0.00000000e+00, 2.20415124e+10,\n",
       "       0.00000000e+00])"
      ]
     },
     "execution_count": 34,
     "metadata": {},
     "output_type": "execute_result"
    }
   ],
   "source": [
    "from sklearn.ensemble import RandomForestClassifier\n",
    "from sklearn.neighbors import KNeighborsClassifier\n",
    "from sklearn.model_selection import train_test_split\n",
    "\n",
    "train, test = train_test_split(np.arange(len(eeg[\"classes\"])), random_state=0)\n",
    "\n",
    "model_cesium = RandomForestClassifier(n_estimators=128, max_features=\"auto\",\n",
    "                                      random_state=0)\n",
    "model_cesium.fit(fset_cesium.iloc[train], eeg[\"classes\"][train])\n",
    "\n",
    "model_guo = KNeighborsClassifier(3)\n",
    "model_guo.fit(fset_guo.iloc[train], eeg[\"classes\"][train])\n",
    "\n",
    "model_dwt = KNeighborsClassifier(3)\n",
    "model_dwt.fit(fset_dwt.iloc[train], eeg[\"classes\"][train])"
   ]
  },
  {
   "cell_type": "code",
   "execution_count": 16,
   "metadata": {},
   "outputs": [
    {
     "name": "stderr",
     "output_type": "stream",
     "text": [
      "Loaded data from cached archive.\n"
     ]
    },
    {
     "data": {
      "image/png": "[encoded data removed]",
      "text/plain": [
       "<Figure size 640x480 with 3 Axes>"
      ]
     },
     "metadata": {},
     "output_type": "display_data"
    }
   ],
   "source": [
    "import numpy as np\n",
    "import matplotlib.pyplot as plt\n",
    "import seaborn; seaborn.set()\n",
    "\n",
    "from cesium import datasets\n",
    "\n",
    "eeg = datasets.fetch_andrzejak()\n",
    "\n",
    "# Group together classes (Z, O), (N, F), (S) as normal, interictal, ictal\n",
    "eeg[\"classes\"] = eeg[\"classes\"].astype(\"U16\") #  allocate memory for longer class names\n",
    "eeg[\"classes\"][np.logical_or(eeg[\"classes\"]==\"Z\", eeg[\"classes\"]==\"O\")] = \"Normal\"\n",
    "eeg[\"classes\"][np.logical_or(eeg[\"classes\"]==\"N\", eeg[\"classes\"]==\"F\")] = \"Interictal\"\n",
    "eeg[\"classes\"][eeg[\"classes\"]==\"S\"] = \"Ictal\"\n",
    "\n",
    "fig, ax = plt.subplots(1, len(np.unique(eeg[\"classes\"])), sharey=True)\n",
    "for label, subplot in zip(np.unique(eeg[\"classes\"]), ax):\n",
    "    i = np.where(eeg[\"classes\"] == label)[0][0]\n",
    "    subplot.plot(eeg[\"times\"][i], eeg[\"measurements\"][i])\n",
    "    subplot.set(xlabel=\"time (s)\", ylabel=\"signal\", title=label)"
   ]
  },
  {
   "cell_type": "code",
   "execution_count": 47,
   "metadata": {},
   "outputs": [
    {
     "data": {
      "text/plain": [
       "array(['Normal', 'Normal', 'Normal', 'Normal', 'Normal', 'Normal',\n",
       "       'Normal', 'Normal', 'Normal', 'Normal', 'Normal', 'Normal',\n",
       "       'Normal', 'Normal', 'Normal', 'Normal', 'Normal', 'Normal',\n",
       "       'Normal', 'Normal', 'Normal', 'Normal', 'Normal', 'Normal',\n",
       "       'Normal', 'Normal', 'Normal', 'Normal', 'Normal', 'Normal',\n",
       "       'Normal', 'Normal', 'Normal', 'Normal', 'Normal', 'Normal',\n",
       "       'Normal', 'Normal', 'Normal', 'Normal', 'Normal', 'Normal',\n",
       "       'Normal', 'Normal', 'Normal', 'Normal', 'Normal', 'Normal',\n",
       "       'Normal', 'Normal', 'Normal', 'Normal', 'Normal', 'Normal',\n",
       "       'Normal', 'Normal', 'Normal', 'Normal', 'Normal', 'Normal',\n",
       "       'Normal', 'Normal', 'Normal', 'Normal', 'Normal', 'Normal',\n",
       "       'Normal', 'Normal', 'Normal', 'Normal', 'Normal', 'Normal',\n",
       "       'Normal', 'Normal', 'Normal', 'Normal', 'Normal', 'Normal',\n",
       "       'Normal', 'Normal', 'Normal', 'Normal', 'Normal', 'Normal',\n",
       "       'Normal', 'Normal', 'Normal', 'Normal', 'Normal', 'Normal',\n",
       "       'Normal', 'Normal', 'Normal', 'Normal', 'Normal', 'Normal',\n",
       "       'Normal', 'Normal', 'Normal', 'Normal', 'Normal', 'Normal',\n",
       "       'Normal', 'Normal', 'Normal', 'Normal', 'Normal', 'Normal',\n",
       "       'Normal', 'Normal', 'Normal', 'Normal', 'Normal', 'Normal',\n",
       "       'Normal', 'Normal', 'Normal', 'Normal', 'Normal', 'Normal',\n",
       "       'Normal', 'Normal', 'Normal', 'Normal', 'Normal', 'Normal',\n",
       "       'Normal', 'Normal', 'Normal', 'Normal', 'Normal', 'Normal',\n",
       "       'Normal', 'Normal', 'Normal', 'Normal', 'Normal', 'Normal',\n",
       "       'Normal', 'Normal', 'Normal', 'Normal', 'Normal', 'Normal',\n",
       "       'Normal', 'Normal', 'Normal', 'Normal', 'Normal', 'Normal',\n",
       "       'Normal', 'Normal', 'Normal', 'Normal', 'Normal', 'Normal',\n",
       "       'Normal', 'Normal', 'Normal', 'Normal', 'Normal', 'Normal',\n",
       "       'Normal', 'Normal', 'Normal', 'Normal', 'Normal', 'Normal',\n",
       "       'Normal', 'Normal', 'Normal', 'Normal', 'Normal', 'Normal',\n",
       "       'Normal', 'Normal', 'Normal', 'Normal', 'Normal', 'Normal',\n",
       "       'Normal', 'Normal', 'Normal', 'Normal', 'Normal', 'Normal',\n",
       "       'Normal', 'Normal', 'Normal', 'Normal', 'Normal', 'Normal',\n",
       "       'Normal', 'Normal', 'Normal', 'Normal', 'Normal', 'Normal',\n",
       "       'Normal', 'Normal', 'Interictal', 'Interictal', 'Interictal',\n",
       "       'Interictal', 'Interictal', 'Interictal', 'Interictal',\n",
       "       'Interictal', 'Interictal', 'Interictal', 'Interictal',\n",
       "       'Interictal', 'Interictal', 'Interictal', 'Interictal',\n",
       "       'Interictal', 'Interictal', 'Interictal', 'Interictal',\n",
       "       'Interictal', 'Interictal', 'Interictal', 'Interictal',\n",
       "       'Interictal', 'Interictal', 'Interictal', 'Interictal',\n",
       "       'Interictal', 'Interictal', 'Interictal', 'Interictal',\n",
       "       'Interictal', 'Interictal', 'Interictal', 'Interictal',\n",
       "       'Interictal', 'Interictal', 'Interictal', 'Interictal',\n",
       "       'Interictal', 'Interictal', 'Interictal', 'Interictal',\n",
       "       'Interictal', 'Interictal', 'Interictal', 'Interictal',\n",
       "       'Interictal', 'Interictal', 'Interictal', 'Interictal',\n",
       "       'Interictal', 'Interictal', 'Interictal', 'Interictal',\n",
       "       'Interictal', 'Interictal', 'Interictal', 'Interictal',\n",
       "       'Interictal', 'Interictal', 'Interictal', 'Interictal',\n",
       "       'Interictal', 'Interictal', 'Interictal', 'Interictal',\n",
       "       'Interictal', 'Interictal', 'Interictal', 'Interictal',\n",
       "       'Interictal', 'Interictal', 'Interictal', 'Interictal',\n",
       "       'Interictal', 'Interictal', 'Interictal', 'Interictal',\n",
       "       'Interictal', 'Interictal', 'Interictal', 'Interictal',\n",
       "       'Interictal', 'Interictal', 'Interictal', 'Interictal',\n",
       "       'Interictal', 'Interictal', 'Interictal', 'Interictal',\n",
       "       'Interictal', 'Interictal', 'Interictal', 'Interictal',\n",
       "       'Interictal', 'Interictal', 'Interictal', 'Interictal',\n",
       "       'Interictal', 'Interictal', 'Interictal', 'Interictal',\n",
       "       'Interictal', 'Interictal', 'Interictal', 'Interictal',\n",
       "       'Interictal', 'Interictal', 'Interictal', 'Interictal',\n",
       "       'Interictal', 'Interictal', 'Interictal', 'Interictal',\n",
       "       'Interictal', 'Interictal', 'Interictal', 'Interictal',\n",
       "       'Interictal', 'Interictal', 'Interictal', 'Interictal',\n",
       "       'Interictal', 'Interictal', 'Interictal', 'Interictal',\n",
       "       'Interictal', 'Interictal', 'Interictal', 'Interictal',\n",
       "       'Interictal', 'Interictal', 'Interictal', 'Interictal',\n",
       "       'Interictal', 'Interictal', 'Interictal', 'Interictal',\n",
       "       'Interictal', 'Interictal', 'Interictal', 'Interictal',\n",
       "       'Interictal', 'Interictal', 'Interictal', 'Interictal',\n",
       "       'Interictal', 'Interictal', 'Interictal', 'Interictal',\n",
       "       'Interictal', 'Interictal', 'Interictal', 'Interictal',\n",
       "       'Interictal', 'Interictal', 'Interictal', 'Interictal',\n",
       "       'Interictal', 'Interictal', 'Interictal', 'Interictal',\n",
       "       'Interictal', 'Interictal', 'Interictal', 'Interictal',\n",
       "       'Interictal', 'Interictal', 'Interictal', 'Interictal',\n",
       "       'Interictal', 'Interictal', 'Interictal', 'Interictal',\n",
       "       'Interictal', 'Interictal', 'Interictal', 'Interictal',\n",
       "       'Interictal', 'Interictal', 'Interictal', 'Interictal',\n",
       "       'Interictal', 'Interictal', 'Interictal', 'Interictal',\n",
       "       'Interictal', 'Interictal', 'Interictal', 'Interictal',\n",
       "       'Interictal', 'Interictal', 'Interictal', 'Interictal',\n",
       "       'Interictal', 'Interictal', 'Interictal', 'Interictal',\n",
       "       'Interictal', 'Ictal', 'Ictal', 'Ictal', 'Ictal', 'Ictal', 'Ictal',\n",
       "       'Ictal', 'Ictal', 'Ictal', 'Ictal', 'Ictal', 'Ictal', 'Ictal',\n",
       "       'Ictal', 'Ictal', 'Ictal', 'Ictal', 'Ictal', 'Ictal', 'Ictal',\n",
       "       'Ictal', 'Ictal', 'Ictal', 'Ictal', 'Ictal', 'Ictal', 'Ictal',\n",
       "       'Ictal', 'Ictal', 'Ictal', 'Ictal', 'Ictal', 'Ictal', 'Ictal',\n",
       "       'Ictal', 'Ictal', 'Ictal', 'Ictal', 'Ictal', 'Ictal', 'Ictal',\n",
       "       'Ictal', 'Ictal', 'Ictal', 'Ictal', 'Ictal', 'Ictal', 'Ictal',\n",
       "       'Ictal', 'Ictal', 'Ictal', 'Ictal', 'Ictal', 'Ictal', 'Ictal',\n",
       "       'Ictal', 'Ictal', 'Ictal', 'Ictal', 'Ictal', 'Ictal', 'Ictal',\n",
       "       'Ictal', 'Ictal', 'Ictal', 'Ictal', 'Ictal', 'Ictal', 'Ictal',\n",
       "       'Ictal', 'Ictal', 'Ictal', 'Ictal', 'Ictal', 'Ictal', 'Ictal',\n",
       "       'Ictal', 'Ictal', 'Ictal', 'Ictal', 'Ictal', 'Ictal', 'Ictal',\n",
       "       'Ictal', 'Ictal', 'Ictal', 'Ictal', 'Ictal', 'Ictal', 'Ictal',\n",
       "       'Ictal', 'Ictal', 'Ictal', 'Ictal', 'Ictal', 'Ictal', 'Ictal',\n",
       "       'Ictal', 'Ictal', 'Ictal'], dtype='<U16')"
      ]
     },
     "execution_count": 47,
     "metadata": {},
     "output_type": "execute_result"
    }
   ],
   "source": [
    "eeg['classes']"
   ]
  }
 ],
 "metadata": {
  "kernelspec": {
   "display_name": "Python 3",
   "language": "python",
   "name": "python3"
  },
  "language_info": {
   "codemirror_mode": {
    "name": "ipython",
    "version": 3
   },
   "file_extension": ".py",
   "mimetype": "text/x-python",
   "name": "python",
   "nbconvert_exporter": "python",
   "pygments_lexer": "ipython3",
   "version": "3.10.9"
  },
  "orig_nbformat": 4
 },
 "nbformat": 4,
 "nbformat_minor": 2
}
